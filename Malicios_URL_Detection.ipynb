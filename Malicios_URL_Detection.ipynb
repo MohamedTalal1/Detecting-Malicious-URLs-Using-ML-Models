{
 "cells": [
  {
   "cell_type": "markdown",
   "id": "0a730bf2",
   "metadata": {},
   "source": [
    "## **Importing Libraries**"
   ]
  },
  {
   "cell_type": "code",
   "execution_count": 2,
   "id": "2ffd2cc6",
   "metadata": {},
   "outputs": [
    {
     "name": "stdout",
     "output_type": "stream",
     "text": [
      "Collecting tld\n",
      "  Using cached tld-0.13-py2.py3-none-any.whl (263 kB)\n",
      "Installing collected packages: tld\n",
      "Successfully installed tld-0.13\n"
     ]
    }
   ],
   "source": [
    "!pip install tld"
   ]
  },
  {
   "cell_type": "code",
   "execution_count": 117,
   "id": "96f3d78a",
   "metadata": {},
   "outputs": [
    {
     "name": "stdout",
     "output_type": "stream",
     "text": [
      "Requirement already satisfied: scikit-learn in d:\\anaconda\\lib\\site-packages (1.3.0)\n",
      "Collecting scikit-learn\n",
      "  Obtaining dependency information for scikit-learn from https://files.pythonhosted.org/packages/4e/ba/ce9bd1cd4953336a0e213b29cb80bb11816f2a93de8c99f88ef0b446ad0c/scikit_learn-1.3.2-cp311-cp311-win_amd64.whl.metadata\n",
      "  Downloading scikit_learn-1.3.2-cp311-cp311-win_amd64.whl.metadata (11 kB)\n",
      "Requirement already satisfied: numpy<2.0,>=1.17.3 in d:\\anaconda\\lib\\site-packages (from scikit-learn) (1.24.3)\n",
      "Requirement already satisfied: scipy>=1.5.0 in d:\\anaconda\\lib\\site-packages (from scikit-learn) (1.11.1)\n",
      "Requirement already satisfied: joblib>=1.1.1 in d:\\anaconda\\lib\\site-packages (from scikit-learn) (1.2.0)\n",
      "Requirement already satisfied: threadpoolctl>=2.0.0 in d:\\anaconda\\lib\\site-packages (from scikit-learn) (2.2.0)\n",
      "Downloading scikit_learn-1.3.2-cp311-cp311-win_amd64.whl (9.2 MB)\n",
      "   ---------------------------------------- 0.0/9.2 MB ? eta -:--:--\n",
      "   ---------------------------------------- 0.0/9.2 MB ? eta -:--:--\n",
      "   ---------------------------------------- 0.0/9.2 MB ? eta -:--:--\n",
      "   ---------------------------------------- 0.0/9.2 MB 435.7 kB/s eta 0:00:22\n",
      "   ---------------------------------------- 0.0/9.2 MB 388.9 kB/s eta 0:00:24\n",
      "   ---------------------------------------- 0.1/9.2 MB 744.7 kB/s eta 0:00:13\n",
      "    --------------------------------------- 0.2/9.2 MB 1.1 MB/s eta 0:00:09\n",
      "   - -------------------------------------- 0.2/9.2 MB 1.3 MB/s eta 0:00:08\n",
      "   - -------------------------------------- 0.4/9.2 MB 1.5 MB/s eta 0:00:06\n",
      "   - -------------------------------------- 0.5/9.2 MB 1.6 MB/s eta 0:00:06\n",
      "   -- ------------------------------------- 0.5/9.2 MB 1.7 MB/s eta 0:00:06\n",
      "   -- ------------------------------------- 0.6/9.2 MB 1.8 MB/s eta 0:00:05\n",
      "   --- ------------------------------------ 0.7/9.2 MB 1.8 MB/s eta 0:00:05\n",
      "   --- ------------------------------------ 0.8/9.2 MB 1.8 MB/s eta 0:00:05\n",
      "   --- ------------------------------------ 0.9/9.2 MB 1.8 MB/s eta 0:00:05\n",
      "   ---- ----------------------------------- 1.0/9.2 MB 1.9 MB/s eta 0:00:05\n",
      "   ---- ----------------------------------- 1.1/9.2 MB 1.9 MB/s eta 0:00:05\n",
      "   ----- ---------------------------------- 1.2/9.2 MB 1.9 MB/s eta 0:00:05\n",
      "   ----- ---------------------------------- 1.3/9.2 MB 1.9 MB/s eta 0:00:05\n",
      "   ------ --------------------------------- 1.4/9.2 MB 2.0 MB/s eta 0:00:04\n",
      "   ------ --------------------------------- 1.5/9.2 MB 2.0 MB/s eta 0:00:04\n",
      "   ------ --------------------------------- 1.6/9.2 MB 2.0 MB/s eta 0:00:04\n",
      "   ------- -------------------------------- 1.7/9.2 MB 2.1 MB/s eta 0:00:04\n",
      "   ------- -------------------------------- 1.8/9.2 MB 2.0 MB/s eta 0:00:04\n",
      "   -------- ------------------------------- 1.9/9.2 MB 2.1 MB/s eta 0:00:04\n",
      "   -------- ------------------------------- 2.0/9.2 MB 2.1 MB/s eta 0:00:04\n",
      "   --------- ------------------------------ 2.1/9.2 MB 2.1 MB/s eta 0:00:04\n",
      "   --------- ------------------------------ 2.2/9.2 MB 2.1 MB/s eta 0:00:04\n",
      "   ---------- ----------------------------- 2.3/9.2 MB 2.1 MB/s eta 0:00:04\n",
      "   ---------- ----------------------------- 2.4/9.2 MB 2.1 MB/s eta 0:00:04\n",
      "   ---------- ----------------------------- 2.5/9.2 MB 2.1 MB/s eta 0:00:04\n",
      "   ----------- ---------------------------- 2.6/9.2 MB 2.1 MB/s eta 0:00:04\n",
      "   ----------- ---------------------------- 2.7/9.2 MB 2.1 MB/s eta 0:00:04\n",
      "   ------------ --------------------------- 2.8/9.2 MB 2.1 MB/s eta 0:00:04\n",
      "   ------------ --------------------------- 2.9/9.2 MB 2.1 MB/s eta 0:00:04\n",
      "   ------------ --------------------------- 3.0/9.2 MB 2.1 MB/s eta 0:00:03\n",
      "   ------------- -------------------------- 3.1/9.2 MB 2.1 MB/s eta 0:00:03\n",
      "   ------------- -------------------------- 3.2/9.2 MB 2.1 MB/s eta 0:00:03\n",
      "   -------------- ------------------------- 3.2/9.2 MB 2.1 MB/s eta 0:00:03\n",
      "   -------------- ------------------------- 3.4/9.2 MB 2.1 MB/s eta 0:00:03\n",
      "   --------------- ------------------------ 3.5/9.2 MB 2.1 MB/s eta 0:00:03\n",
      "   --------------- ------------------------ 3.6/9.2 MB 2.2 MB/s eta 0:00:03\n",
      "   --------------- ------------------------ 3.7/9.2 MB 2.1 MB/s eta 0:00:03\n",
      "   ---------------- ----------------------- 3.7/9.2 MB 2.1 MB/s eta 0:00:03\n",
      "   ---------------- ----------------------- 3.9/9.2 MB 2.1 MB/s eta 0:00:03\n",
      "   ----------------- ---------------------- 4.0/9.2 MB 2.2 MB/s eta 0:00:03\n",
      "   ----------------- ---------------------- 4.0/9.2 MB 2.2 MB/s eta 0:00:03\n",
      "   ----------------- ---------------------- 4.1/9.2 MB 2.2 MB/s eta 0:00:03\n",
      "   ------------------ --------------------- 4.2/9.2 MB 2.1 MB/s eta 0:00:03\n",
      "   ------------------ --------------------- 4.3/9.2 MB 2.2 MB/s eta 0:00:03\n",
      "   ------------------- -------------------- 4.4/9.2 MB 2.2 MB/s eta 0:00:03\n",
      "   ------------------- -------------------- 4.5/9.2 MB 2.2 MB/s eta 0:00:03\n",
      "   ------------------- -------------------- 4.6/9.2 MB 2.2 MB/s eta 0:00:03\n",
      "   -------------------- ------------------- 4.7/9.2 MB 2.2 MB/s eta 0:00:03\n",
      "   -------------------- ------------------- 4.8/9.2 MB 2.2 MB/s eta 0:00:03\n",
      "   --------------------- ------------------ 4.8/9.2 MB 2.2 MB/s eta 0:00:03\n",
      "   --------------------- ------------------ 5.0/9.2 MB 2.2 MB/s eta 0:00:02\n",
      "   --------------------- ------------------ 5.1/9.2 MB 2.2 MB/s eta 0:00:02\n",
      "   ---------------------- ----------------- 5.2/9.2 MB 2.2 MB/s eta 0:00:02\n",
      "   ---------------------- ----------------- 5.3/9.2 MB 2.2 MB/s eta 0:00:02\n",
      "   ----------------------- ---------------- 5.4/9.2 MB 2.2 MB/s eta 0:00:02\n",
      "   ----------------------- ---------------- 5.5/9.2 MB 2.2 MB/s eta 0:00:02\n",
      "   ------------------------ --------------- 5.6/9.2 MB 2.2 MB/s eta 0:00:02\n",
      "   ------------------------ --------------- 5.7/9.2 MB 2.2 MB/s eta 0:00:02\n",
      "   ------------------------- -------------- 5.8/9.2 MB 2.2 MB/s eta 0:00:02\n",
      "   ------------------------- -------------- 5.9/9.2 MB 2.2 MB/s eta 0:00:02\n",
      "   -------------------------- ------------- 6.0/9.2 MB 2.2 MB/s eta 0:00:02\n",
      "   -------------------------- ------------- 6.1/9.2 MB 2.2 MB/s eta 0:00:02\n",
      "   --------------------------- ------------ 6.2/9.2 MB 2.2 MB/s eta 0:00:02\n",
      "   --------------------------- ------------ 6.3/9.2 MB 2.2 MB/s eta 0:00:02\n",
      "   --------------------------- ------------ 6.4/9.2 MB 2.2 MB/s eta 0:00:02\n",
      "   ---------------------------- ----------- 6.5/9.2 MB 2.2 MB/s eta 0:00:02\n",
      "   ---------------------------- ----------- 6.6/9.2 MB 2.2 MB/s eta 0:00:02\n",
      "   ----------------------------- ---------- 6.7/9.2 MB 2.2 MB/s eta 0:00:02\n",
      "   ----------------------------- ---------- 6.8/9.2 MB 2.2 MB/s eta 0:00:02\n",
      "   ----------------------------- ---------- 6.9/9.2 MB 2.2 MB/s eta 0:00:02\n",
      "   ------------------------------ --------- 7.0/9.2 MB 2.2 MB/s eta 0:00:02\n",
      "   ------------------------------ --------- 7.1/9.2 MB 2.2 MB/s eta 0:00:01\n",
      "   ------------------------------- -------- 7.2/9.2 MB 2.2 MB/s eta 0:00:01\n",
      "   ------------------------------- -------- 7.3/9.2 MB 2.2 MB/s eta 0:00:01\n",
      "   -------------------------------- ------- 7.4/9.2 MB 2.2 MB/s eta 0:00:01\n",
      "   -------------------------------- ------- 7.5/9.2 MB 2.2 MB/s eta 0:00:01\n",
      "   -------------------------------- ------- 7.6/9.2 MB 2.2 MB/s eta 0:00:01\n",
      "   --------------------------------- ------ 7.6/9.2 MB 2.2 MB/s eta 0:00:01\n",
      "   --------------------------------- ------ 7.7/9.2 MB 2.2 MB/s eta 0:00:01\n",
      "   --------------------------------- ------ 7.8/9.2 MB 2.2 MB/s eta 0:00:01\n",
      "   ---------------------------------- ----- 7.9/9.2 MB 2.2 MB/s eta 0:00:01\n",
      "   ---------------------------------- ----- 8.0/9.2 MB 2.2 MB/s eta 0:00:01\n",
      "   ----------------------------------- ---- 8.1/9.2 MB 2.2 MB/s eta 0:00:01\n",
      "   ----------------------------------- ---- 8.2/9.2 MB 2.2 MB/s eta 0:00:01\n",
      "   ----------------------------------- ---- 8.3/9.2 MB 2.2 MB/s eta 0:00:01\n",
      "   ------------------------------------ --- 8.4/9.2 MB 2.2 MB/s eta 0:00:01\n",
      "   ------------------------------------ --- 8.5/9.2 MB 2.2 MB/s eta 0:00:01\n",
      "   ------------------------------------- -- 8.6/9.2 MB 2.2 MB/s eta 0:00:01\n",
      "   ------------------------------------- -- 8.6/9.2 MB 2.2 MB/s eta 0:00:01\n",
      "   ------------------------------------- -- 8.7/9.2 MB 2.2 MB/s eta 0:00:01\n",
      "   -------------------------------------- - 8.8/9.2 MB 2.2 MB/s eta 0:00:01\n",
      "   -------------------------------------- - 8.9/9.2 MB 2.2 MB/s eta 0:00:01\n",
      "   -------------------------------------- - 9.0/9.2 MB 2.2 MB/s eta 0:00:01\n",
      "   ---------------------------------------  9.1/9.2 MB 2.2 MB/s eta 0:00:01\n",
      "   ---------------------------------------  9.2/9.2 MB 2.2 MB/s eta 0:00:01\n",
      "   ---------------------------------------  9.2/9.2 MB 2.2 MB/s eta 0:00:01\n",
      "   ---------------------------------------- 9.2/9.2 MB 2.2 MB/s eta 0:00:00\n",
      "Installing collected packages: scikit-learn\n",
      "  Attempting uninstall: scikit-learn\n",
      "    Found existing installation: scikit-learn 1.3.0\n",
      "    Uninstalling scikit-learn-1.3.0:\n",
      "      Successfully uninstalled scikit-learn-1.3.0\n"
     ]
    },
    {
     "name": "stderr",
     "output_type": "stream",
     "text": [
      "ERROR: Could not install packages due to an OSError: [WinError 5] Access is denied: 'D:\\\\anaconda\\\\Lib\\\\site-packages\\\\~klearn\\\\decomposition\\\\_cdnmf_fast.cp311-win_amd64.pyd'\n",
      "Consider using the `--user` option or check the permissions.\n",
      "\n"
     ]
    },
    {
     "name": "stdout",
     "output_type": "stream",
     "text": [
      "Requirement already satisfied: numpy in d:\\anaconda\\lib\\site-packages (1.24.3)\n",
      "Collecting numpy\n",
      "  Obtaining dependency information for numpy from https://files.pythonhosted.org/packages/da/3c/3ff05c2855eee52588f489a4e607e4a61699a0742aa03ccf641c77f9eb0a/numpy-1.26.2-cp311-cp311-win_amd64.whl.metadata\n",
      "  Downloading numpy-1.26.2-cp311-cp311-win_amd64.whl.metadata (61 kB)\n",
      "     ---------------------------------------- 0.0/61.2 kB ? eta -:--:--\n",
      "     ---------------------------------------- 0.0/61.2 kB ? eta -:--:--\n",
      "     ------ --------------------------------- 10.2/61.2 kB ? eta -:--:--\n",
      "     ------------ ------------------------- 20.5/61.2 kB 129.6 kB/s eta 0:00:01\n",
      "     ------------ ------------------------- 20.5/61.2 kB 129.6 kB/s eta 0:00:01\n",
      "     ------------------------- ------------ 41.0/61.2 kB 178.6 kB/s eta 0:00:01\n",
      "     ------------------------------- ------ 51.2/61.2 kB 217.9 kB/s eta 0:00:01\n",
      "     -------------------------------------- 61.2/61.2 kB 232.7 kB/s eta 0:00:00\n",
      "Downloading numpy-1.26.2-cp311-cp311-win_amd64.whl (15.8 MB)\n",
      "   ---------------------------------------- 0.0/15.8 MB ? eta -:--:--\n",
      "   ---------------------------------------- 0.0/15.8 MB 1.4 MB/s eta 0:00:12\n",
      "   ---------------------------------------- 0.1/15.8 MB 1.3 MB/s eta 0:00:12\n",
      "   ---------------------------------------- 0.2/15.8 MB 1.7 MB/s eta 0:00:10\n",
      "    --------------------------------------- 0.3/15.8 MB 1.9 MB/s eta 0:00:09\n",
      "    --------------------------------------- 0.4/15.8 MB 1.9 MB/s eta 0:00:09\n",
      "   - -------------------------------------- 0.5/15.8 MB 2.0 MB/s eta 0:00:08\n",
      "   - -------------------------------------- 0.5/15.8 MB 2.0 MB/s eta 0:00:08\n",
      "   - -------------------------------------- 0.6/15.8 MB 2.1 MB/s eta 0:00:08\n",
      "   - -------------------------------------- 0.7/15.8 MB 2.0 MB/s eta 0:00:08\n",
      "   - -------------------------------------- 0.8/15.8 MB 2.1 MB/s eta 0:00:08\n",
      "   -- ------------------------------------- 0.9/15.8 MB 2.1 MB/s eta 0:00:08\n",
      "   -- ------------------------------------- 1.0/15.8 MB 2.1 MB/s eta 0:00:07\n",
      "   -- ------------------------------------- 1.1/15.8 MB 2.1 MB/s eta 0:00:07\n",
      "   -- ------------------------------------- 1.2/15.8 MB 2.1 MB/s eta 0:00:07\n",
      "   --- ------------------------------------ 1.3/15.8 MB 2.2 MB/s eta 0:00:07\n",
      "   --- ------------------------------------ 1.3/15.8 MB 2.1 MB/s eta 0:00:07\n",
      "   --- ------------------------------------ 1.4/15.8 MB 2.2 MB/s eta 0:00:07\n",
      "   --- ------------------------------------ 1.5/15.8 MB 2.2 MB/s eta 0:00:07\n",
      "   ---- ----------------------------------- 1.6/15.8 MB 2.2 MB/s eta 0:00:07\n",
      "   ---- ----------------------------------- 1.7/15.8 MB 2.2 MB/s eta 0:00:07\n",
      "   ---- ----------------------------------- 1.8/15.8 MB 2.2 MB/s eta 0:00:07\n",
      "   ---- ----------------------------------- 1.9/15.8 MB 2.2 MB/s eta 0:00:07\n",
      "   ---- ----------------------------------- 1.9/15.8 MB 2.2 MB/s eta 0:00:07\n",
      "   ----- ---------------------------------- 2.0/15.8 MB 2.2 MB/s eta 0:00:07\n",
      "   ----- ---------------------------------- 2.1/15.8 MB 2.2 MB/s eta 0:00:07\n",
      "   ----- ---------------------------------- 2.2/15.8 MB 2.2 MB/s eta 0:00:07\n",
      "   ----- ---------------------------------- 2.3/15.8 MB 2.2 MB/s eta 0:00:07\n",
      "   ------ --------------------------------- 2.4/15.8 MB 2.2 MB/s eta 0:00:07\n",
      "   ------ --------------------------------- 2.5/15.8 MB 2.2 MB/s eta 0:00:07\n",
      "   ------ --------------------------------- 2.5/15.8 MB 2.2 MB/s eta 0:00:07\n",
      "   ------ --------------------------------- 2.6/15.8 MB 2.2 MB/s eta 0:00:06\n",
      "   ------ --------------------------------- 2.7/15.8 MB 2.2 MB/s eta 0:00:06\n",
      "   ------- -------------------------------- 2.8/15.8 MB 2.2 MB/s eta 0:00:06\n",
      "   ------- -------------------------------- 2.9/15.8 MB 2.2 MB/s eta 0:00:06\n",
      "   ------- -------------------------------- 3.0/15.8 MB 2.2 MB/s eta 0:00:06\n",
      "   ------- -------------------------------- 3.1/15.8 MB 2.2 MB/s eta 0:00:06\n",
      "   ------- -------------------------------- 3.1/15.8 MB 2.2 MB/s eta 0:00:06\n",
      "   -------- ------------------------------- 3.3/15.8 MB 2.2 MB/s eta 0:00:06\n",
      "   -------- ------------------------------- 3.3/15.8 MB 2.2 MB/s eta 0:00:06\n",
      "   -------- ------------------------------- 3.4/15.8 MB 2.2 MB/s eta 0:00:06\n",
      "   -------- ------------------------------- 3.5/15.8 MB 2.2 MB/s eta 0:00:06\n",
      "   --------- ------------------------------ 3.6/15.8 MB 2.2 MB/s eta 0:00:06\n",
      "   --------- ------------------------------ 3.7/15.8 MB 2.2 MB/s eta 0:00:06\n",
      "   --------- ------------------------------ 3.8/15.8 MB 2.2 MB/s eta 0:00:06\n",
      "   --------- ------------------------------ 3.9/15.8 MB 2.2 MB/s eta 0:00:06\n",
      "   ---------- ----------------------------- 4.0/15.8 MB 2.2 MB/s eta 0:00:06\n",
      "   ---------- ----------------------------- 4.1/15.8 MB 2.2 MB/s eta 0:00:06\n",
      "   ---------- ----------------------------- 4.2/15.8 MB 2.2 MB/s eta 0:00:06\n",
      "   ---------- ----------------------------- 4.3/15.8 MB 2.2 MB/s eta 0:00:06\n",
      "   ----------- ---------------------------- 4.4/15.8 MB 2.2 MB/s eta 0:00:06\n",
      "   ----------- ---------------------------- 4.5/15.8 MB 2.2 MB/s eta 0:00:06\n",
      "   ----------- ---------------------------- 4.6/15.8 MB 2.2 MB/s eta 0:00:06\n",
      "   ----------- ---------------------------- 4.7/15.8 MB 2.2 MB/s eta 0:00:05\n",
      "   ------------ --------------------------- 4.8/15.8 MB 2.2 MB/s eta 0:00:05\n",
      "   ------------ --------------------------- 4.9/15.8 MB 2.2 MB/s eta 0:00:05\n",
      "   ------------ --------------------------- 5.0/15.8 MB 2.2 MB/s eta 0:00:05\n",
      "   ------------ --------------------------- 5.1/15.8 MB 2.2 MB/s eta 0:00:05\n",
      "   ------------- -------------------------- 5.2/15.8 MB 2.2 MB/s eta 0:00:05\n",
      "   ------------- -------------------------- 5.3/15.8 MB 2.2 MB/s eta 0:00:05\n",
      "   ------------- -------------------------- 5.4/15.8 MB 2.2 MB/s eta 0:00:05\n",
      "   ------------- -------------------------- 5.4/15.8 MB 2.2 MB/s eta 0:00:05\n",
      "   -------------- ------------------------- 5.6/15.8 MB 2.2 MB/s eta 0:00:05\n",
      "   -------------- ------------------------- 5.6/15.8 MB 2.2 MB/s eta 0:00:05\n",
      "   -------------- ------------------------- 5.7/15.8 MB 2.2 MB/s eta 0:00:05\n",
      "   -------------- ------------------------- 5.8/15.8 MB 2.2 MB/s eta 0:00:05\n",
      "   -------------- ------------------------- 5.9/15.8 MB 2.2 MB/s eta 0:00:05\n",
      "   --------------- ------------------------ 6.0/15.8 MB 2.2 MB/s eta 0:00:05\n",
      "   --------------- ------------------------ 6.1/15.8 MB 2.2 MB/s eta 0:00:05\n",
      "   --------------- ------------------------ 6.1/15.8 MB 2.2 MB/s eta 0:00:05\n",
      "   --------------- ------------------------ 6.2/15.8 MB 2.2 MB/s eta 0:00:05\n",
      "   ---------------- ----------------------- 6.3/15.8 MB 2.2 MB/s eta 0:00:05\n",
      "   ---------------- ----------------------- 6.4/15.8 MB 2.2 MB/s eta 0:00:05\n",
      "   ---------------- ----------------------- 6.5/15.8 MB 2.2 MB/s eta 0:00:05\n",
      "   ---------------- ----------------------- 6.6/15.8 MB 2.2 MB/s eta 0:00:05\n",
      "   ----------------- ---------------------- 6.7/15.8 MB 2.2 MB/s eta 0:00:05\n",
      "   ----------------- ---------------------- 6.8/15.8 MB 2.2 MB/s eta 0:00:05\n",
      "   ----------------- ---------------------- 6.9/15.8 MB 2.2 MB/s eta 0:00:04\n",
      "   ----------------- ---------------------- 7.0/15.8 MB 2.2 MB/s eta 0:00:04\n",
      "   ----------------- ---------------------- 7.1/15.8 MB 2.2 MB/s eta 0:00:04\n",
      "   ------------------ --------------------- 7.2/15.8 MB 2.2 MB/s eta 0:00:04\n",
      "   ------------------ --------------------- 7.3/15.8 MB 2.2 MB/s eta 0:00:04\n",
      "   ------------------ --------------------- 7.4/15.8 MB 2.2 MB/s eta 0:00:04\n",
      "   ------------------ --------------------- 7.4/15.8 MB 2.2 MB/s eta 0:00:04\n",
      "   ------------------- -------------------- 7.5/15.8 MB 2.2 MB/s eta 0:00:04\n",
      "   ------------------- -------------------- 7.6/15.8 MB 2.2 MB/s eta 0:00:04\n",
      "   ------------------- -------------------- 7.7/15.8 MB 2.2 MB/s eta 0:00:04\n",
      "   ------------------- -------------------- 7.8/15.8 MB 2.2 MB/s eta 0:00:04\n",
      "   -------------------- ------------------- 7.9/15.8 MB 2.2 MB/s eta 0:00:04\n",
      "   -------------------- ------------------- 8.0/15.8 MB 2.2 MB/s eta 0:00:04\n",
      "   -------------------- ------------------- 8.2/15.8 MB 2.2 MB/s eta 0:00:04\n",
      "   -------------------- ------------------- 8.3/15.8 MB 2.2 MB/s eta 0:00:04\n",
      "   --------------------- ------------------ 8.4/15.8 MB 2.2 MB/s eta 0:00:04\n",
      "   --------------------- ------------------ 8.5/15.8 MB 2.2 MB/s eta 0:00:04\n",
      "   --------------------- ------------------ 8.6/15.8 MB 2.2 MB/s eta 0:00:04\n",
      "   --------------------- ------------------ 8.7/15.8 MB 2.2 MB/s eta 0:00:04\n",
      "   ---------------------- ----------------- 8.8/15.8 MB 2.2 MB/s eta 0:00:04\n",
      "   ---------------------- ----------------- 8.9/15.8 MB 2.2 MB/s eta 0:00:04\n",
      "   ---------------------- ----------------- 8.9/15.8 MB 2.2 MB/s eta 0:00:04\n",
      "   ---------------------- ----------------- 9.1/15.8 MB 2.2 MB/s eta 0:00:04\n",
      "   ----------------------- ---------------- 9.2/15.8 MB 2.2 MB/s eta 0:00:03\n",
      "   ----------------------- ---------------- 9.3/15.8 MB 2.2 MB/s eta 0:00:03\n",
      "   ----------------------- ---------------- 9.4/15.8 MB 2.2 MB/s eta 0:00:03\n",
      "   ------------------------ --------------- 9.5/15.8 MB 2.2 MB/s eta 0:00:03\n",
      "   ------------------------ --------------- 9.6/15.8 MB 2.2 MB/s eta 0:00:03\n",
      "   ------------------------ --------------- 9.6/15.8 MB 2.2 MB/s eta 0:00:03\n",
      "   ------------------------ --------------- 9.7/15.8 MB 2.2 MB/s eta 0:00:03\n",
      "   ------------------------ --------------- 9.8/15.8 MB 2.2 MB/s eta 0:00:03\n",
      "   ------------------------- -------------- 9.9/15.8 MB 2.2 MB/s eta 0:00:03\n",
      "   ------------------------- -------------- 10.0/15.8 MB 2.2 MB/s eta 0:00:03\n",
      "   ------------------------- -------------- 10.1/15.8 MB 2.2 MB/s eta 0:00:03\n",
      "   ------------------------- -------------- 10.2/15.8 MB 2.2 MB/s eta 0:00:03\n",
      "   ------------------------- -------------- 10.3/15.8 MB 2.2 MB/s eta 0:00:03\n",
      "   -------------------------- ------------- 10.3/15.8 MB 2.3 MB/s eta 0:00:03\n",
      "   -------------------------- ------------- 10.5/15.8 MB 2.3 MB/s eta 0:00:03\n",
      "   -------------------------- ------------- 10.5/15.8 MB 2.3 MB/s eta 0:00:03\n",
      "   -------------------------- ------------- 10.6/15.8 MB 2.3 MB/s eta 0:00:03\n",
      "   --------------------------- ------------ 10.7/15.8 MB 2.2 MB/s eta 0:00:03\n",
      "   --------------------------- ------------ 10.8/15.8 MB 2.2 MB/s eta 0:00:03\n",
      "   --------------------------- ------------ 10.9/15.8 MB 2.3 MB/s eta 0:00:03\n",
      "   --------------------------- ------------ 11.0/15.8 MB 2.2 MB/s eta 0:00:03\n",
      "   ---------------------------- ----------- 11.1/15.8 MB 2.2 MB/s eta 0:00:03\n",
      "   ---------------------------- ----------- 11.2/15.8 MB 2.3 MB/s eta 0:00:03\n",
      "   ---------------------------- ----------- 11.3/15.8 MB 2.3 MB/s eta 0:00:02\n",
      "   ---------------------------- ----------- 11.4/15.8 MB 2.2 MB/s eta 0:00:02\n",
      "   ----------------------------- ---------- 11.5/15.8 MB 2.3 MB/s eta 0:00:02\n",
      "   ----------------------------- ---------- 11.6/15.8 MB 2.2 MB/s eta 0:00:02\n",
      "   ----------------------------- ---------- 11.7/15.8 MB 2.3 MB/s eta 0:00:02\n",
      "   ----------------------------- ---------- 11.8/15.8 MB 2.2 MB/s eta 0:00:02\n",
      "   ------------------------------ --------- 11.9/15.8 MB 2.3 MB/s eta 0:00:02\n",
      "   ------------------------------ --------- 12.0/15.8 MB 2.2 MB/s eta 0:00:02\n",
      "   ------------------------------ --------- 12.1/15.8 MB 2.2 MB/s eta 0:00:02\n",
      "   ------------------------------ --------- 12.2/15.8 MB 2.3 MB/s eta 0:00:02\n",
      "   ------------------------------- -------- 12.3/15.8 MB 2.3 MB/s eta 0:00:02\n",
      "   ------------------------------- -------- 12.4/15.8 MB 2.3 MB/s eta 0:00:02\n",
      "   ------------------------------- -------- 12.5/15.8 MB 2.2 MB/s eta 0:00:02\n",
      "   ------------------------------- -------- 12.6/15.8 MB 2.3 MB/s eta 0:00:02\n",
      "   -------------------------------- ------- 12.7/15.8 MB 2.3 MB/s eta 0:00:02\n",
      "   -------------------------------- ------- 12.8/15.8 MB 2.3 MB/s eta 0:00:02\n",
      "   -------------------------------- ------- 12.9/15.8 MB 2.3 MB/s eta 0:00:02\n",
      "   -------------------------------- ------- 12.9/15.8 MB 2.2 MB/s eta 0:00:02\n",
      "   -------------------------------- ------- 13.0/15.8 MB 2.3 MB/s eta 0:00:02\n",
      "   --------------------------------- ------ 13.1/15.8 MB 2.2 MB/s eta 0:00:02\n",
      "   --------------------------------- ------ 13.2/15.8 MB 2.3 MB/s eta 0:00:02\n",
      "   --------------------------------- ------ 13.3/15.8 MB 2.3 MB/s eta 0:00:02\n",
      "   --------------------------------- ------ 13.4/15.8 MB 2.3 MB/s eta 0:00:02\n",
      "   ---------------------------------- ----- 13.5/15.8 MB 2.2 MB/s eta 0:00:02\n",
      "   ---------------------------------- ----- 13.5/15.8 MB 2.3 MB/s eta 0:00:01\n",
      "   ---------------------------------- ----- 13.6/15.8 MB 2.2 MB/s eta 0:00:01\n",
      "   ---------------------------------- ----- 13.7/15.8 MB 2.3 MB/s eta 0:00:01\n",
      "   ---------------------------------- ----- 13.8/15.8 MB 2.3 MB/s eta 0:00:01\n",
      "   ----------------------------------- ---- 13.9/15.8 MB 2.2 MB/s eta 0:00:01\n",
      "   ----------------------------------- ---- 14.0/15.8 MB 2.3 MB/s eta 0:00:01\n",
      "   ----------------------------------- ---- 14.1/15.8 MB 2.3 MB/s eta 0:00:01\n",
      "   ----------------------------------- ---- 14.2/15.8 MB 2.3 MB/s eta 0:00:01\n",
      "   ------------------------------------ --- 14.3/15.8 MB 2.3 MB/s eta 0:00:01\n",
      "   ------------------------------------ --- 14.3/15.8 MB 2.2 MB/s eta 0:00:01\n",
      "   ------------------------------------ --- 14.5/15.8 MB 2.3 MB/s eta 0:00:01\n",
      "   ------------------------------------ --- 14.5/15.8 MB 2.3 MB/s eta 0:00:01\n",
      "   ------------------------------------- -- 14.6/15.8 MB 2.3 MB/s eta 0:00:01\n",
      "   ------------------------------------- -- 14.7/15.8 MB 2.3 MB/s eta 0:00:01\n",
      "   ------------------------------------- -- 14.8/15.8 MB 2.2 MB/s eta 0:00:01\n",
      "   ------------------------------------- -- 14.9/15.8 MB 2.3 MB/s eta 0:00:01\n",
      "   -------------------------------------- - 15.0/15.8 MB 2.3 MB/s eta 0:00:01\n",
      "   -------------------------------------- - 15.1/15.8 MB 2.2 MB/s eta 0:00:01\n",
      "   -------------------------------------- - 15.2/15.8 MB 2.3 MB/s eta 0:00:01\n",
      "   -------------------------------------- - 15.3/15.8 MB 2.3 MB/s eta 0:00:01\n",
      "   -------------------------------------- - 15.4/15.8 MB 2.3 MB/s eta 0:00:01\n",
      "   ---------------------------------------  15.5/15.8 MB 2.3 MB/s eta 0:00:01\n",
      "   ---------------------------------------  15.6/15.8 MB 2.2 MB/s eta 0:00:01\n",
      "   ---------------------------------------  15.7/15.8 MB 2.3 MB/s eta 0:00:01\n",
      "   ---------------------------------------  15.8/15.8 MB 2.3 MB/s eta 0:00:01\n",
      "   ---------------------------------------  15.8/15.8 MB 2.2 MB/s eta 0:00:01\n",
      "   ---------------------------------------  15.8/15.8 MB 2.2 MB/s eta 0:00:01\n",
      "   ---------------------------------------- 15.8/15.8 MB 2.2 MB/s eta 0:00:00\n",
      "Installing collected packages: numpy\n",
      "  Attempting uninstall: numpy\n",
      "    Found existing installation: numpy 1.24.3\n",
      "    Uninstalling numpy-1.24.3:\n",
      "      Successfully uninstalled numpy-1.24.3\n"
     ]
    },
    {
     "name": "stderr",
     "output_type": "stream",
     "text": [
      "ERROR: Could not install packages due to an OSError: [WinError 5] Access is denied: 'D:\\\\anaconda\\\\Lib\\\\site-packages\\\\~umpy\\\\core\\\\_multiarray_tests.cp311-win_amd64.pyd'\n",
      "Consider using the `--user` option or check the permissions.\n",
      "\n"
     ]
    }
   ],
   "source": [
    "!pip install --upgrade scikit-learn\n",
    "!pip install --upgrade numpy"
   ]
  },
  {
   "cell_type": "code",
   "execution_count": 3,
   "id": "284533d1",
   "metadata": {},
   "outputs": [],
   "source": [
    "import re\n",
    "import numpy as np\n",
    "import pandas as pd\n",
    "import seaborn as sns\n",
    "import matplotlib.pyplot as plt\n",
    "from colorama import Fore\n",
    "from urllib.parse import urlparse\n",
    "from sklearn.model_selection import train_test_split\n",
    "from sklearn.metrics import confusion_matrix, classification_report, accuracy_score\n",
    "from sklearn.tree import DecisionTreeClassifier\n",
    "from sklearn.ensemble import RandomForestClassifier, AdaBoostClassifier, ExtraTreesClassifier\n",
    "from sklearn.neighbors import KNeighborsClassifier\n",
    "from sklearn.linear_model import SGDClassifier\n",
    "from sklearn.naive_bayes import GaussianNB\n",
    "from tld import get_tld, is_tld"
   ]
  },
  {
   "cell_type": "markdown",
   "id": "43c040d6",
   "metadata": {},
   "source": [
    "## **Loading Dataset**"
   ]
  },
  {
   "cell_type": "code",
   "execution_count": 26,
   "id": "2d345993",
   "metadata": {},
   "outputs": [
    {
     "data": {
      "text/html": [
       "<div>\n",
       "<style scoped>\n",
       "    .dataframe tbody tr th:only-of-type {\n",
       "        vertical-align: middle;\n",
       "    }\n",
       "\n",
       "    .dataframe tbody tr th {\n",
       "        vertical-align: top;\n",
       "    }\n",
       "\n",
       "    .dataframe thead th {\n",
       "        text-align: right;\n",
       "    }\n",
       "</style>\n",
       "<table border=\"1\" class=\"dataframe\">\n",
       "  <thead>\n",
       "    <tr style=\"text-align: right;\">\n",
       "      <th></th>\n",
       "      <th>url</th>\n",
       "      <th>type</th>\n",
       "    </tr>\n",
       "  </thead>\n",
       "  <tbody>\n",
       "    <tr>\n",
       "      <th>0</th>\n",
       "      <td>br-icloud.com.br</td>\n",
       "      <td>phishing</td>\n",
       "    </tr>\n",
       "    <tr>\n",
       "      <th>1</th>\n",
       "      <td>mp3raid.com/music/krizz_kaliko.html</td>\n",
       "      <td>benign</td>\n",
       "    </tr>\n",
       "    <tr>\n",
       "      <th>2</th>\n",
       "      <td>bopsecrets.org/rexroth/cr/1.htm</td>\n",
       "      <td>benign</td>\n",
       "    </tr>\n",
       "    <tr>\n",
       "      <th>3</th>\n",
       "      <td>http://www.garage-pirenne.be/index.php?option=...</td>\n",
       "      <td>defacement</td>\n",
       "    </tr>\n",
       "    <tr>\n",
       "      <th>4</th>\n",
       "      <td>http://adventure-nicaragua.net/index.php?optio...</td>\n",
       "      <td>defacement</td>\n",
       "    </tr>\n",
       "  </tbody>\n",
       "</table>\n",
       "</div>"
      ],
      "text/plain": [
       "                                                 url        type\n",
       "0                                   br-icloud.com.br    phishing\n",
       "1                mp3raid.com/music/krizz_kaliko.html      benign\n",
       "2                    bopsecrets.org/rexroth/cr/1.htm      benign\n",
       "3  http://www.garage-pirenne.be/index.php?option=...  defacement\n",
       "4  http://adventure-nicaragua.net/index.php?optio...  defacement"
      ]
     },
     "execution_count": 26,
     "metadata": {},
     "output_type": "execute_result"
    }
   ],
   "source": [
    "data = pd.read_csv(r\"E:\\vs code\\Datasets\\malicious_phish.csv\")\n",
    "data.head()"
   ]
  },
  {
   "cell_type": "code",
   "execution_count": 28,
   "id": "6c5e7f30",
   "metadata": {},
   "outputs": [
    {
     "data": {
      "text/plain": [
       "(651191, 2)"
      ]
     },
     "execution_count": 28,
     "metadata": {},
     "output_type": "execute_result"
    }
   ],
   "source": [
    "data.shape"
   ]
  },
  {
   "cell_type": "code",
   "execution_count": 29,
   "id": "edf7bad9",
   "metadata": {},
   "outputs": [
    {
     "data": {
      "text/plain": [
       "array(['phishing', 'benign', 'defacement', 'malware'], dtype=object)"
      ]
     },
     "execution_count": 29,
     "metadata": {},
     "output_type": "execute_result"
    }
   ],
   "source": [
    "data['type'].unique()"
   ]
  },
  {
   "cell_type": "markdown",
   "id": "c8a7fb29",
   "metadata": {},
   "source": [
    "## **Preprocessing**"
   ]
  },
  {
   "cell_type": "code",
   "execution_count": 30,
   "id": "9267359a",
   "metadata": {},
   "outputs": [
    {
     "data": {
      "text/plain": [
       "url     0\n",
       "type    0\n",
       "dtype: int64"
      ]
     },
     "execution_count": 30,
     "metadata": {},
     "output_type": "execute_result"
    }
   ],
   "source": [
    "data.isna().sum()"
   ]
  },
  {
   "cell_type": "code",
   "execution_count": 31,
   "id": "5e88526d",
   "metadata": {},
   "outputs": [
    {
     "data": {
      "text/plain": [
       "10066"
      ]
     },
     "execution_count": 31,
     "metadata": {},
     "output_type": "execute_result"
    }
   ],
   "source": [
    "data.duplicated().sum()"
   ]
  },
  {
   "cell_type": "code",
   "execution_count": 32,
   "id": "e195ea9b",
   "metadata": {},
   "outputs": [
    {
     "data": {
      "text/plain": [
       "0"
      ]
     },
     "execution_count": 32,
     "metadata": {},
     "output_type": "execute_result"
    }
   ],
   "source": [
    "data.drop_duplicates(inplace=True)\n",
    "data.duplicated().sum()"
   ]
  },
  {
   "cell_type": "code",
   "execution_count": 33,
   "id": "25774593",
   "metadata": {},
   "outputs": [
    {
     "data": {
      "text/plain": [
       "(641125, 2)"
      ]
     },
     "execution_count": 33,
     "metadata": {},
     "output_type": "execute_result"
    }
   ],
   "source": [
    "data.shape"
   ]
  },
  {
   "cell_type": "code",
   "execution_count": 34,
   "id": "cdd15d51",
   "metadata": {},
   "outputs": [
    {
     "data": {
      "text/plain": [
       "type\n",
       "benign        428080\n",
       "defacement     95308\n",
       "phishing       94092\n",
       "malware        23645\n",
       "Name: count, dtype: int64"
      ]
     },
     "execution_count": 34,
     "metadata": {},
     "output_type": "execute_result"
    }
   ],
   "source": [
    "count = data['type'].value_counts()\n",
    "count"
   ]
  },
  {
   "cell_type": "code",
   "execution_count": 58,
   "id": "7de1b34e",
   "metadata": {},
   "outputs": [
    {
     "data": {
      "image/png": "[encoded data removed]",
      "text/plain": [
       "<Figure size 640x480 with 1 Axes>"
      ]
     },
     "metadata": {},
     "output_type": "display_data"
    }
   ],
   "source": [
    "sns.barplot(x=count.index, y=count)\n",
    "plt.xlabel('Types')\n",
    "plt.ylabel('Count');"
   ]
  },
  {
   "cell_type": "markdown",
   "id": "9940b2de",
   "metadata": {},
   "source": [
    "#### first have to omit the (www.) from the URL which is in fact a sub domain in itself.\n"
   ]
  },
  {
   "cell_type": "code",
   "execution_count": 37,
   "id": "8a693f4d",
   "metadata": {},
   "outputs": [
    {
     "data": {
      "text/plain": [
       "'http://www.parafiapiaski.pl/index.php?option=com_user&view=remind'"
      ]
     },
     "execution_count": 37,
     "metadata": {},
     "output_type": "execute_result"
    }
   ],
   "source": [
    "data['url'][90]"
   ]
  },
  {
   "cell_type": "code",
   "execution_count": 42,
   "id": "5a260cf2",
   "metadata": {},
   "outputs": [
    {
     "data": {
      "text/plain": [
       "'http://parafiapiaski.pl/index.php?option=com_user&view=remind'"
      ]
     },
     "execution_count": 42,
     "metadata": {},
     "output_type": "execute_result"
    }
   ],
   "source": [
    "data['url'] = data['url'].replace('www.', '', regex=True)\n",
    "data['url'][90]"
   ]
  },
  {
   "cell_type": "code",
   "execution_count": 43,
   "id": "5e4cf619",
   "metadata": {},
   "outputs": [
    {
     "data": {
      "text/html": [
       "<div>\n",
       "<style scoped>\n",
       "    .dataframe tbody tr th:only-of-type {\n",
       "        vertical-align: middle;\n",
       "    }\n",
       "\n",
       "    .dataframe tbody tr th {\n",
       "        vertical-align: top;\n",
       "    }\n",
       "\n",
       "    .dataframe thead th {\n",
       "        text-align: right;\n",
       "    }\n",
       "</style>\n",
       "<table border=\"1\" class=\"dataframe\">\n",
       "  <thead>\n",
       "    <tr style=\"text-align: right;\">\n",
       "      <th></th>\n",
       "      <th>url</th>\n",
       "      <th>type</th>\n",
       "    </tr>\n",
       "  </thead>\n",
       "  <tbody>\n",
       "    <tr>\n",
       "      <th>0</th>\n",
       "      <td>br-icloud.com.br</td>\n",
       "      <td>phishing</td>\n",
       "    </tr>\n",
       "    <tr>\n",
       "      <th>1</th>\n",
       "      <td>mp3raid.com/music/krizz_kaliko.html</td>\n",
       "      <td>benign</td>\n",
       "    </tr>\n",
       "    <tr>\n",
       "      <th>2</th>\n",
       "      <td>bopsecrets.org/rexroth/cr/1.htm</td>\n",
       "      <td>benign</td>\n",
       "    </tr>\n",
       "    <tr>\n",
       "      <th>3</th>\n",
       "      <td>http://garage-pirenne.be/index.php?option=com_...</td>\n",
       "      <td>defacement</td>\n",
       "    </tr>\n",
       "    <tr>\n",
       "      <th>4</th>\n",
       "      <td>http://adventure-nicaragua.net/index.php?optio...</td>\n",
       "      <td>defacement</td>\n",
       "    </tr>\n",
       "  </tbody>\n",
       "</table>\n",
       "</div>"
      ],
      "text/plain": [
       "                                                 url        type\n",
       "0                                   br-icloud.com.br    phishing\n",
       "1                mp3raid.com/music/krizz_kaliko.html      benign\n",
       "2                    bopsecrets.org/rexroth/cr/1.htm      benign\n",
       "3  http://garage-pirenne.be/index.php?option=com_...  defacement\n",
       "4  http://adventure-nicaragua.net/index.php?optio...  defacement"
      ]
     },
     "execution_count": 43,
     "metadata": {},
     "output_type": "execute_result"
    }
   ],
   "source": [
    "data.head()"
   ]
  },
  {
   "cell_type": "code",
   "execution_count": 46,
   "id": "78483915",
   "metadata": {},
   "outputs": [
    {
     "data": {
      "text/html": [
       "<div>\n",
       "<style scoped>\n",
       "    .dataframe tbody tr th:only-of-type {\n",
       "        vertical-align: middle;\n",
       "    }\n",
       "\n",
       "    .dataframe tbody tr th {\n",
       "        vertical-align: top;\n",
       "    }\n",
       "\n",
       "    .dataframe thead th {\n",
       "        text-align: right;\n",
       "    }\n",
       "</style>\n",
       "<table border=\"1\" class=\"dataframe\">\n",
       "  <thead>\n",
       "    <tr style=\"text-align: right;\">\n",
       "      <th></th>\n",
       "      <th>url</th>\n",
       "      <th>type</th>\n",
       "      <th>Category</th>\n",
       "    </tr>\n",
       "  </thead>\n",
       "  <tbody>\n",
       "    <tr>\n",
       "      <th>0</th>\n",
       "      <td>br-icloud.com.br</td>\n",
       "      <td>phishing</td>\n",
       "      <td>2</td>\n",
       "    </tr>\n",
       "    <tr>\n",
       "      <th>1</th>\n",
       "      <td>mp3raid.com/music/krizz_kaliko.html</td>\n",
       "      <td>benign</td>\n",
       "      <td>0</td>\n",
       "    </tr>\n",
       "    <tr>\n",
       "      <th>2</th>\n",
       "      <td>bopsecrets.org/rexroth/cr/1.htm</td>\n",
       "      <td>benign</td>\n",
       "      <td>0</td>\n",
       "    </tr>\n",
       "    <tr>\n",
       "      <th>3</th>\n",
       "      <td>http://garage-pirenne.be/index.php?option=com_...</td>\n",
       "      <td>defacement</td>\n",
       "      <td>1</td>\n",
       "    </tr>\n",
       "    <tr>\n",
       "      <th>4</th>\n",
       "      <td>http://adventure-nicaragua.net/index.php?optio...</td>\n",
       "      <td>defacement</td>\n",
       "      <td>1</td>\n",
       "    </tr>\n",
       "  </tbody>\n",
       "</table>\n",
       "</div>"
      ],
      "text/plain": [
       "                                                 url        type  Category\n",
       "0                                   br-icloud.com.br    phishing         2\n",
       "1                mp3raid.com/music/krizz_kaliko.html      benign         0\n",
       "2                    bopsecrets.org/rexroth/cr/1.htm      benign         0\n",
       "3  http://garage-pirenne.be/index.php?option=com_...  defacement         1\n",
       "4  http://adventure-nicaragua.net/index.php?optio...  defacement         1"
      ]
     },
     "execution_count": 46,
     "metadata": {},
     "output_type": "execute_result"
    }
   ],
   "source": [
    "labels = {'Category': {'benign':0, 'defacement': 1, 'phishing':2, 'malware':3} }\n",
    "data['Category'] = data['type']\n",
    "data = data.replace(labels)\n",
    "\n",
    "data.head()"
   ]
  },
  {
   "cell_type": "markdown",
   "id": "cba1146b",
   "metadata": {},
   "source": [
    "## **Feature Extraction**"
   ]
  },
  {
   "cell_type": "code",
   "execution_count": 47,
   "id": "bccfdb94",
   "metadata": {},
   "outputs": [
    {
     "data": {
      "text/html": [
       "<div>\n",
       "<style scoped>\n",
       "    .dataframe tbody tr th:only-of-type {\n",
       "        vertical-align: middle;\n",
       "    }\n",
       "\n",
       "    .dataframe tbody tr th {\n",
       "        vertical-align: top;\n",
       "    }\n",
       "\n",
       "    .dataframe thead th {\n",
       "        text-align: right;\n",
       "    }\n",
       "</style>\n",
       "<table border=\"1\" class=\"dataframe\">\n",
       "  <thead>\n",
       "    <tr style=\"text-align: right;\">\n",
       "      <th></th>\n",
       "      <th>url</th>\n",
       "      <th>type</th>\n",
       "      <th>Category</th>\n",
       "      <th>url_len</th>\n",
       "    </tr>\n",
       "  </thead>\n",
       "  <tbody>\n",
       "    <tr>\n",
       "      <th>0</th>\n",
       "      <td>br-icloud.com.br</td>\n",
       "      <td>phishing</td>\n",
       "      <td>2</td>\n",
       "      <td>16</td>\n",
       "    </tr>\n",
       "    <tr>\n",
       "      <th>1</th>\n",
       "      <td>mp3raid.com/music/krizz_kaliko.html</td>\n",
       "      <td>benign</td>\n",
       "      <td>0</td>\n",
       "      <td>35</td>\n",
       "    </tr>\n",
       "    <tr>\n",
       "      <th>2</th>\n",
       "      <td>bopsecrets.org/rexroth/cr/1.htm</td>\n",
       "      <td>benign</td>\n",
       "      <td>0</td>\n",
       "      <td>31</td>\n",
       "    </tr>\n",
       "    <tr>\n",
       "      <th>3</th>\n",
       "      <td>http://garage-pirenne.be/index.php?option=com_...</td>\n",
       "      <td>defacement</td>\n",
       "      <td>1</td>\n",
       "      <td>84</td>\n",
       "    </tr>\n",
       "    <tr>\n",
       "      <th>4</th>\n",
       "      <td>http://adventure-nicaragua.net/index.php?optio...</td>\n",
       "      <td>defacement</td>\n",
       "      <td>1</td>\n",
       "      <td>235</td>\n",
       "    </tr>\n",
       "  </tbody>\n",
       "</table>\n",
       "</div>"
      ],
      "text/plain": [
       "                                                 url        type  Category  \\\n",
       "0                                   br-icloud.com.br    phishing         2   \n",
       "1                mp3raid.com/music/krizz_kaliko.html      benign         0   \n",
       "2                    bopsecrets.org/rexroth/cr/1.htm      benign         0   \n",
       "3  http://garage-pirenne.be/index.php?option=com_...  defacement         1   \n",
       "4  http://adventure-nicaragua.net/index.php?optio...  defacement         1   \n",
       "\n",
       "   url_len  \n",
       "0       16  \n",
       "1       35  \n",
       "2       31  \n",
       "3       84  \n",
       "4      235  "
      ]
     },
     "execution_count": 47,
     "metadata": {},
     "output_type": "execute_result"
    }
   ],
   "source": [
    "data['url_len'] = data['url'].apply(lambda x: len(str(x)))\n",
    "data.head()"
   ]
  },
  {
   "cell_type": "markdown",
   "id": "9d7a56c7",
   "metadata": {},
   "source": [
    "#### Extract the top-level domain (TLD) from the URL"
   ]
  },
  {
   "cell_type": "code",
   "execution_count": 48,
   "id": "ff8d60f3",
   "metadata": {},
   "outputs": [],
   "source": [
    "def process_tld(url):\n",
    "    try:\n",
    "        result = get_tld(url, as_object = True, fail_silently=False,fix_protocol=True)\n",
    "        primary_domain= result.parsed_url.netloc\n",
    "    except :\n",
    "        primary_domain= None\n",
    "    return primary_domain\n",
    "\n",
    "# as_object=True: Specifies that the result should be returned as an object.\n",
    "# fail_silently=False: If set to False, the function will raise an exception if it fails to extract the TLD.\n",
    "# fix_protocol=True: Tries to fix the URL protocol if missing."
   ]
  },
  {
   "cell_type": "code",
   "execution_count": 50,
   "id": "7d7c942c",
   "metadata": {},
   "outputs": [
    {
     "data": {
      "text/html": [
       "<div>\n",
       "<style scoped>\n",
       "    .dataframe tbody tr th:only-of-type {\n",
       "        vertical-align: middle;\n",
       "    }\n",
       "\n",
       "    .dataframe tbody tr th {\n",
       "        vertical-align: top;\n",
       "    }\n",
       "\n",
       "    .dataframe thead th {\n",
       "        text-align: right;\n",
       "    }\n",
       "</style>\n",
       "<table border=\"1\" class=\"dataframe\">\n",
       "  <thead>\n",
       "    <tr style=\"text-align: right;\">\n",
       "      <th></th>\n",
       "      <th>url</th>\n",
       "      <th>type</th>\n",
       "      <th>Category</th>\n",
       "      <th>url_len</th>\n",
       "      <th>domain</th>\n",
       "    </tr>\n",
       "  </thead>\n",
       "  <tbody>\n",
       "    <tr>\n",
       "      <th>0</th>\n",
       "      <td>br-icloud.com.br</td>\n",
       "      <td>phishing</td>\n",
       "      <td>2</td>\n",
       "      <td>16</td>\n",
       "      <td>br-icloud.com.br</td>\n",
       "    </tr>\n",
       "    <tr>\n",
       "      <th>1</th>\n",
       "      <td>mp3raid.com/music/krizz_kaliko.html</td>\n",
       "      <td>benign</td>\n",
       "      <td>0</td>\n",
       "      <td>35</td>\n",
       "      <td>mp3raid.com</td>\n",
       "    </tr>\n",
       "    <tr>\n",
       "      <th>2</th>\n",
       "      <td>bopsecrets.org/rexroth/cr/1.htm</td>\n",
       "      <td>benign</td>\n",
       "      <td>0</td>\n",
       "      <td>31</td>\n",
       "      <td>bopsecrets.org</td>\n",
       "    </tr>\n",
       "    <tr>\n",
       "      <th>3</th>\n",
       "      <td>http://garage-pirenne.be/index.php?option=com_...</td>\n",
       "      <td>defacement</td>\n",
       "      <td>1</td>\n",
       "      <td>84</td>\n",
       "      <td>garage-pirenne.be</td>\n",
       "    </tr>\n",
       "    <tr>\n",
       "      <th>4</th>\n",
       "      <td>http://adventure-nicaragua.net/index.php?optio...</td>\n",
       "      <td>defacement</td>\n",
       "      <td>1</td>\n",
       "      <td>235</td>\n",
       "      <td>adventure-nicaragua.net</td>\n",
       "    </tr>\n",
       "  </tbody>\n",
       "</table>\n",
       "</div>"
      ],
      "text/plain": [
       "                                                 url        type  Category  \\\n",
       "0                                   br-icloud.com.br    phishing         2   \n",
       "1                mp3raid.com/music/krizz_kaliko.html      benign         0   \n",
       "2                    bopsecrets.org/rexroth/cr/1.htm      benign         0   \n",
       "3  http://garage-pirenne.be/index.php?option=com_...  defacement         1   \n",
       "4  http://adventure-nicaragua.net/index.php?optio...  defacement         1   \n",
       "\n",
       "   url_len                   domain  \n",
       "0       16         br-icloud.com.br  \n",
       "1       35              mp3raid.com  \n",
       "2       31           bopsecrets.org  \n",
       "3       84        garage-pirenne.be  \n",
       "4      235  adventure-nicaragua.net  "
      ]
     },
     "execution_count": 50,
     "metadata": {},
     "output_type": "execute_result"
    }
   ],
   "source": [
    "data['domain'] = data['url'].apply(lambda i: process_tld(i))\n",
    "data.head()"
   ]
  },
  {
   "cell_type": "code",
   "execution_count": 51,
   "id": "355b3893",
   "metadata": {},
   "outputs": [
    {
     "data": {
      "text/html": [
       "<div>\n",
       "<style scoped>\n",
       "    .dataframe tbody tr th:only-of-type {\n",
       "        vertical-align: middle;\n",
       "    }\n",
       "\n",
       "    .dataframe tbody tr th {\n",
       "        vertical-align: top;\n",
       "    }\n",
       "\n",
       "    .dataframe thead th {\n",
       "        text-align: right;\n",
       "    }\n",
       "</style>\n",
       "<table border=\"1\" class=\"dataframe\">\n",
       "  <thead>\n",
       "    <tr style=\"text-align: right;\">\n",
       "      <th></th>\n",
       "      <th>url</th>\n",
       "      <th>type</th>\n",
       "      <th>Category</th>\n",
       "      <th>url_len</th>\n",
       "      <th>domain</th>\n",
       "      <th>@</th>\n",
       "      <th>?</th>\n",
       "      <th>-</th>\n",
       "      <th>=</th>\n",
       "      <th>.</th>\n",
       "      <th>#</th>\n",
       "      <th>%</th>\n",
       "      <th>+</th>\n",
       "      <th>$</th>\n",
       "      <th>!</th>\n",
       "      <th>*</th>\n",
       "      <th>,</th>\n",
       "      <th>//</th>\n",
       "    </tr>\n",
       "  </thead>\n",
       "  <tbody>\n",
       "    <tr>\n",
       "      <th>0</th>\n",
       "      <td>br-icloud.com.br</td>\n",
       "      <td>phishing</td>\n",
       "      <td>2</td>\n",
       "      <td>16</td>\n",
       "      <td>br-icloud.com.br</td>\n",
       "      <td>0</td>\n",
       "      <td>0</td>\n",
       "      <td>1</td>\n",
       "      <td>0</td>\n",
       "      <td>2</td>\n",
       "      <td>0</td>\n",
       "      <td>0</td>\n",
       "      <td>0</td>\n",
       "      <td>0</td>\n",
       "      <td>0</td>\n",
       "      <td>0</td>\n",
       "      <td>0</td>\n",
       "      <td>0</td>\n",
       "    </tr>\n",
       "    <tr>\n",
       "      <th>1</th>\n",
       "      <td>mp3raid.com/music/krizz_kaliko.html</td>\n",
       "      <td>benign</td>\n",
       "      <td>0</td>\n",
       "      <td>35</td>\n",
       "      <td>mp3raid.com</td>\n",
       "      <td>0</td>\n",
       "      <td>0</td>\n",
       "      <td>0</td>\n",
       "      <td>0</td>\n",
       "      <td>2</td>\n",
       "      <td>0</td>\n",
       "      <td>0</td>\n",
       "      <td>0</td>\n",
       "      <td>0</td>\n",
       "      <td>0</td>\n",
       "      <td>0</td>\n",
       "      <td>0</td>\n",
       "      <td>0</td>\n",
       "    </tr>\n",
       "    <tr>\n",
       "      <th>2</th>\n",
       "      <td>bopsecrets.org/rexroth/cr/1.htm</td>\n",
       "      <td>benign</td>\n",
       "      <td>0</td>\n",
       "      <td>31</td>\n",
       "      <td>bopsecrets.org</td>\n",
       "      <td>0</td>\n",
       "      <td>0</td>\n",
       "      <td>0</td>\n",
       "      <td>0</td>\n",
       "      <td>2</td>\n",
       "      <td>0</td>\n",
       "      <td>0</td>\n",
       "      <td>0</td>\n",
       "      <td>0</td>\n",
       "      <td>0</td>\n",
       "      <td>0</td>\n",
       "      <td>0</td>\n",
       "      <td>0</td>\n",
       "    </tr>\n",
       "    <tr>\n",
       "      <th>3</th>\n",
       "      <td>http://garage-pirenne.be/index.php?option=com_...</td>\n",
       "      <td>defacement</td>\n",
       "      <td>1</td>\n",
       "      <td>84</td>\n",
       "      <td>garage-pirenne.be</td>\n",
       "      <td>0</td>\n",
       "      <td>1</td>\n",
       "      <td>1</td>\n",
       "      <td>4</td>\n",
       "      <td>2</td>\n",
       "      <td>0</td>\n",
       "      <td>0</td>\n",
       "      <td>0</td>\n",
       "      <td>0</td>\n",
       "      <td>0</td>\n",
       "      <td>0</td>\n",
       "      <td>0</td>\n",
       "      <td>1</td>\n",
       "    </tr>\n",
       "    <tr>\n",
       "      <th>4</th>\n",
       "      <td>http://adventure-nicaragua.net/index.php?optio...</td>\n",
       "      <td>defacement</td>\n",
       "      <td>1</td>\n",
       "      <td>235</td>\n",
       "      <td>adventure-nicaragua.net</td>\n",
       "      <td>0</td>\n",
       "      <td>1</td>\n",
       "      <td>1</td>\n",
       "      <td>3</td>\n",
       "      <td>2</td>\n",
       "      <td>0</td>\n",
       "      <td>0</td>\n",
       "      <td>0</td>\n",
       "      <td>0</td>\n",
       "      <td>0</td>\n",
       "      <td>0</td>\n",
       "      <td>0</td>\n",
       "      <td>1</td>\n",
       "    </tr>\n",
       "  </tbody>\n",
       "</table>\n",
       "</div>"
      ],
      "text/plain": [
       "                                                 url        type  Category  \\\n",
       "0                                   br-icloud.com.br    phishing         2   \n",
       "1                mp3raid.com/music/krizz_kaliko.html      benign         0   \n",
       "2                    bopsecrets.org/rexroth/cr/1.htm      benign         0   \n",
       "3  http://garage-pirenne.be/index.php?option=com_...  defacement         1   \n",
       "4  http://adventure-nicaragua.net/index.php?optio...  defacement         1   \n",
       "\n",
       "   url_len                   domain  @  ?  -  =  .  #  %  +  $  !  *  ,  //  \n",
       "0       16         br-icloud.com.br  0  0  1  0  2  0  0  0  0  0  0  0   0  \n",
       "1       35              mp3raid.com  0  0  0  0  2  0  0  0  0  0  0  0   0  \n",
       "2       31           bopsecrets.org  0  0  0  0  2  0  0  0  0  0  0  0   0  \n",
       "3       84        garage-pirenne.be  0  1  1  4  2  0  0  0  0  0  0  0   1  \n",
       "4      235  adventure-nicaragua.net  0  1  1  3  2  0  0  0  0  0  0  0   1  "
      ]
     },
     "execution_count": 51,
     "metadata": {},
     "output_type": "execute_result"
    }
   ],
   "source": [
    "feature = ['@','?','-','=','.','#','%','+','$','!','*',',','//']\n",
    "for i in feature:\n",
    "    data[i]  = data['url'].apply(lambda x: x.count(i))\n",
    "data.head()"
   ]
  },
  {
   "cell_type": "code",
   "execution_count": 52,
   "id": "54ff4aaa",
   "metadata": {},
   "outputs": [],
   "source": [
    "def abnormal_url(url):\n",
    "    hostname = urlparse(url).hostname\n",
    "    hostname = str(hostname)\n",
    "    match = re.search(hostname, url)\n",
    "    if match:\n",
    "        return 1\n",
    "    else:\n",
    "        return 0"
   ]
  },
  {
   "cell_type": "code",
   "execution_count": 54,
   "id": "00fed6eb",
   "metadata": {},
   "outputs": [
    {
     "data": {
      "text/html": [
       "<div>\n",
       "<style scoped>\n",
       "    .dataframe tbody tr th:only-of-type {\n",
       "        vertical-align: middle;\n",
       "    }\n",
       "\n",
       "    .dataframe tbody tr th {\n",
       "        vertical-align: top;\n",
       "    }\n",
       "\n",
       "    .dataframe thead th {\n",
       "        text-align: right;\n",
       "    }\n",
       "</style>\n",
       "<table border=\"1\" class=\"dataframe\">\n",
       "  <thead>\n",
       "    <tr style=\"text-align: right;\">\n",
       "      <th></th>\n",
       "      <th>url</th>\n",
       "      <th>type</th>\n",
       "      <th>Category</th>\n",
       "      <th>url_len</th>\n",
       "      <th>domain</th>\n",
       "      <th>@</th>\n",
       "      <th>?</th>\n",
       "      <th>-</th>\n",
       "      <th>=</th>\n",
       "      <th>.</th>\n",
       "      <th>#</th>\n",
       "      <th>%</th>\n",
       "      <th>+</th>\n",
       "      <th>$</th>\n",
       "      <th>!</th>\n",
       "      <th>*</th>\n",
       "      <th>,</th>\n",
       "      <th>//</th>\n",
       "      <th>abnormal_url</th>\n",
       "    </tr>\n",
       "  </thead>\n",
       "  <tbody>\n",
       "    <tr>\n",
       "      <th>0</th>\n",
       "      <td>br-icloud.com.br</td>\n",
       "      <td>phishing</td>\n",
       "      <td>2</td>\n",
       "      <td>16</td>\n",
       "      <td>br-icloud.com.br</td>\n",
       "      <td>0</td>\n",
       "      <td>0</td>\n",
       "      <td>1</td>\n",
       "      <td>0</td>\n",
       "      <td>2</td>\n",
       "      <td>0</td>\n",
       "      <td>0</td>\n",
       "      <td>0</td>\n",
       "      <td>0</td>\n",
       "      <td>0</td>\n",
       "      <td>0</td>\n",
       "      <td>0</td>\n",
       "      <td>0</td>\n",
       "      <td>0</td>\n",
       "    </tr>\n",
       "    <tr>\n",
       "      <th>1</th>\n",
       "      <td>mp3raid.com/music/krizz_kaliko.html</td>\n",
       "      <td>benign</td>\n",
       "      <td>0</td>\n",
       "      <td>35</td>\n",
       "      <td>mp3raid.com</td>\n",
       "      <td>0</td>\n",
       "      <td>0</td>\n",
       "      <td>0</td>\n",
       "      <td>0</td>\n",
       "      <td>2</td>\n",
       "      <td>0</td>\n",
       "      <td>0</td>\n",
       "      <td>0</td>\n",
       "      <td>0</td>\n",
       "      <td>0</td>\n",
       "      <td>0</td>\n",
       "      <td>0</td>\n",
       "      <td>0</td>\n",
       "      <td>0</td>\n",
       "    </tr>\n",
       "    <tr>\n",
       "      <th>2</th>\n",
       "      <td>bopsecrets.org/rexroth/cr/1.htm</td>\n",
       "      <td>benign</td>\n",
       "      <td>0</td>\n",
       "      <td>31</td>\n",
       "      <td>bopsecrets.org</td>\n",
       "      <td>0</td>\n",
       "      <td>0</td>\n",
       "      <td>0</td>\n",
       "      <td>0</td>\n",
       "      <td>2</td>\n",
       "      <td>0</td>\n",
       "      <td>0</td>\n",
       "      <td>0</td>\n",
       "      <td>0</td>\n",
       "      <td>0</td>\n",
       "      <td>0</td>\n",
       "      <td>0</td>\n",
       "      <td>0</td>\n",
       "      <td>0</td>\n",
       "    </tr>\n",
       "    <tr>\n",
       "      <th>3</th>\n",
       "      <td>http://garage-pirenne.be/index.php?option=com_...</td>\n",
       "      <td>defacement</td>\n",
       "      <td>1</td>\n",
       "      <td>84</td>\n",
       "      <td>garage-pirenne.be</td>\n",
       "      <td>0</td>\n",
       "      <td>1</td>\n",
       "      <td>1</td>\n",
       "      <td>4</td>\n",
       "      <td>2</td>\n",
       "      <td>0</td>\n",
       "      <td>0</td>\n",
       "      <td>0</td>\n",
       "      <td>0</td>\n",
       "      <td>0</td>\n",
       "      <td>0</td>\n",
       "      <td>0</td>\n",
       "      <td>1</td>\n",
       "      <td>1</td>\n",
       "    </tr>\n",
       "    <tr>\n",
       "      <th>4</th>\n",
       "      <td>http://adventure-nicaragua.net/index.php?optio...</td>\n",
       "      <td>defacement</td>\n",
       "      <td>1</td>\n",
       "      <td>235</td>\n",
       "      <td>adventure-nicaragua.net</td>\n",
       "      <td>0</td>\n",
       "      <td>1</td>\n",
       "      <td>1</td>\n",
       "      <td>3</td>\n",
       "      <td>2</td>\n",
       "      <td>0</td>\n",
       "      <td>0</td>\n",
       "      <td>0</td>\n",
       "      <td>0</td>\n",
       "      <td>0</td>\n",
       "      <td>0</td>\n",
       "      <td>0</td>\n",
       "      <td>1</td>\n",
       "      <td>1</td>\n",
       "    </tr>\n",
       "  </tbody>\n",
       "</table>\n",
       "</div>"
      ],
      "text/plain": [
       "                                                 url        type  Category  \\\n",
       "0                                   br-icloud.com.br    phishing         2   \n",
       "1                mp3raid.com/music/krizz_kaliko.html      benign         0   \n",
       "2                    bopsecrets.org/rexroth/cr/1.htm      benign         0   \n",
       "3  http://garage-pirenne.be/index.php?option=com_...  defacement         1   \n",
       "4  http://adventure-nicaragua.net/index.php?optio...  defacement         1   \n",
       "\n",
       "   url_len                   domain  @  ?  -  =  .  #  %  +  $  !  *  ,  //  \\\n",
       "0       16         br-icloud.com.br  0  0  1  0  2  0  0  0  0  0  0  0   0   \n",
       "1       35              mp3raid.com  0  0  0  0  2  0  0  0  0  0  0  0   0   \n",
       "2       31           bopsecrets.org  0  0  0  0  2  0  0  0  0  0  0  0   0   \n",
       "3       84        garage-pirenne.be  0  1  1  4  2  0  0  0  0  0  0  0   1   \n",
       "4      235  adventure-nicaragua.net  0  1  1  3  2  0  0  0  0  0  0  0   1   \n",
       "\n",
       "   abnormal_url  \n",
       "0             0  \n",
       "1             0  \n",
       "2             0  \n",
       "3             1  \n",
       "4             1  "
      ]
     },
     "execution_count": 54,
     "metadata": {},
     "output_type": "execute_result"
    }
   ],
   "source": [
    "data['abnormal_url'] = data['url'].apply(lambda i: abnormal_url(i))\n",
    "data.head()"
   ]
  },
  {
   "cell_type": "code",
   "execution_count": 57,
   "id": "7e22fa69",
   "metadata": {},
   "outputs": [
    {
     "data": {
      "image/png": "[encoded data removed]",
      "text/plain": [
       "<Figure size 640x480 with 1 Axes>"
      ]
     },
     "metadata": {},
     "output_type": "display_data"
    }
   ],
   "source": [
    "sns.countplot(x='abnormal_url', data=data);"
   ]
  },
  {
   "cell_type": "code",
   "execution_count": 59,
   "id": "97cb4474",
   "metadata": {},
   "outputs": [],
   "source": [
    "def httpSecure(url):\n",
    "    http = urlparse(url).scheme      # http or https\n",
    "    match = str(http)\n",
    "    if match=='https':\n",
    "        return 1\n",
    "    else:\n",
    "        return 0"
   ]
  },
  {
   "cell_type": "code",
   "execution_count": 60,
   "id": "5d0dbc6d",
   "metadata": {},
   "outputs": [
    {
     "data": {
      "image/png": "[encoded data removed]",
      "text/plain": [
       "<Figure size 640x480 with 1 Axes>"
      ]
     },
     "metadata": {},
     "output_type": "display_data"
    }
   ],
   "source": [
    "data['https'] = data['url'].apply(lambda i: httpSecure(i))\n",
    "sns.countplot(x='https', data=data);"
   ]
  },
  {
   "cell_type": "markdown",
   "id": "4ccbd2d9",
   "metadata": {},
   "source": [
    "####  Counts the number of digit characters in a URL\n"
   ]
  },
  {
   "cell_type": "code",
   "execution_count": 64,
   "id": "cd1e3867",
   "metadata": {},
   "outputs": [],
   "source": [
    "def digit_count(url):\n",
    "    digits = 0\n",
    "    for i in url:\n",
    "        if i.isnumeric():\n",
    "            digits += 1\n",
    "    return digits"
   ]
  },
  {
   "cell_type": "code",
   "execution_count": 65,
   "id": "c60a6cca",
   "metadata": {},
   "outputs": [
    {
     "data": {
      "text/html": [
       "<div>\n",
       "<style scoped>\n",
       "    .dataframe tbody tr th:only-of-type {\n",
       "        vertical-align: middle;\n",
       "    }\n",
       "\n",
       "    .dataframe tbody tr th {\n",
       "        vertical-align: top;\n",
       "    }\n",
       "\n",
       "    .dataframe thead th {\n",
       "        text-align: right;\n",
       "    }\n",
       "</style>\n",
       "<table border=\"1\" class=\"dataframe\">\n",
       "  <thead>\n",
       "    <tr style=\"text-align: right;\">\n",
       "      <th></th>\n",
       "      <th>url</th>\n",
       "      <th>type</th>\n",
       "      <th>Category</th>\n",
       "      <th>url_len</th>\n",
       "      <th>domain</th>\n",
       "      <th>@</th>\n",
       "      <th>?</th>\n",
       "      <th>-</th>\n",
       "      <th>=</th>\n",
       "      <th>.</th>\n",
       "      <th>...</th>\n",
       "      <th>%</th>\n",
       "      <th>+</th>\n",
       "      <th>$</th>\n",
       "      <th>!</th>\n",
       "      <th>*</th>\n",
       "      <th>,</th>\n",
       "      <th>//</th>\n",
       "      <th>abnormal_url</th>\n",
       "      <th>https</th>\n",
       "      <th>digits</th>\n",
       "    </tr>\n",
       "  </thead>\n",
       "  <tbody>\n",
       "    <tr>\n",
       "      <th>0</th>\n",
       "      <td>br-icloud.com.br</td>\n",
       "      <td>phishing</td>\n",
       "      <td>2</td>\n",
       "      <td>16</td>\n",
       "      <td>br-icloud.com.br</td>\n",
       "      <td>0</td>\n",
       "      <td>0</td>\n",
       "      <td>1</td>\n",
       "      <td>0</td>\n",
       "      <td>2</td>\n",
       "      <td>...</td>\n",
       "      <td>0</td>\n",
       "      <td>0</td>\n",
       "      <td>0</td>\n",
       "      <td>0</td>\n",
       "      <td>0</td>\n",
       "      <td>0</td>\n",
       "      <td>0</td>\n",
       "      <td>0</td>\n",
       "      <td>0</td>\n",
       "      <td>0</td>\n",
       "    </tr>\n",
       "    <tr>\n",
       "      <th>1</th>\n",
       "      <td>mp3raid.com/music/krizz_kaliko.html</td>\n",
       "      <td>benign</td>\n",
       "      <td>0</td>\n",
       "      <td>35</td>\n",
       "      <td>mp3raid.com</td>\n",
       "      <td>0</td>\n",
       "      <td>0</td>\n",
       "      <td>0</td>\n",
       "      <td>0</td>\n",
       "      <td>2</td>\n",
       "      <td>...</td>\n",
       "      <td>0</td>\n",
       "      <td>0</td>\n",
       "      <td>0</td>\n",
       "      <td>0</td>\n",
       "      <td>0</td>\n",
       "      <td>0</td>\n",
       "      <td>0</td>\n",
       "      <td>0</td>\n",
       "      <td>0</td>\n",
       "      <td>1</td>\n",
       "    </tr>\n",
       "    <tr>\n",
       "      <th>2</th>\n",
       "      <td>bopsecrets.org/rexroth/cr/1.htm</td>\n",
       "      <td>benign</td>\n",
       "      <td>0</td>\n",
       "      <td>31</td>\n",
       "      <td>bopsecrets.org</td>\n",
       "      <td>0</td>\n",
       "      <td>0</td>\n",
       "      <td>0</td>\n",
       "      <td>0</td>\n",
       "      <td>2</td>\n",
       "      <td>...</td>\n",
       "      <td>0</td>\n",
       "      <td>0</td>\n",
       "      <td>0</td>\n",
       "      <td>0</td>\n",
       "      <td>0</td>\n",
       "      <td>0</td>\n",
       "      <td>0</td>\n",
       "      <td>0</td>\n",
       "      <td>0</td>\n",
       "      <td>1</td>\n",
       "    </tr>\n",
       "    <tr>\n",
       "      <th>3</th>\n",
       "      <td>http://garage-pirenne.be/index.php?option=com_...</td>\n",
       "      <td>defacement</td>\n",
       "      <td>1</td>\n",
       "      <td>84</td>\n",
       "      <td>garage-pirenne.be</td>\n",
       "      <td>0</td>\n",
       "      <td>1</td>\n",
       "      <td>1</td>\n",
       "      <td>4</td>\n",
       "      <td>2</td>\n",
       "      <td>...</td>\n",
       "      <td>0</td>\n",
       "      <td>0</td>\n",
       "      <td>0</td>\n",
       "      <td>0</td>\n",
       "      <td>0</td>\n",
       "      <td>0</td>\n",
       "      <td>1</td>\n",
       "      <td>1</td>\n",
       "      <td>0</td>\n",
       "      <td>7</td>\n",
       "    </tr>\n",
       "    <tr>\n",
       "      <th>4</th>\n",
       "      <td>http://adventure-nicaragua.net/index.php?optio...</td>\n",
       "      <td>defacement</td>\n",
       "      <td>1</td>\n",
       "      <td>235</td>\n",
       "      <td>adventure-nicaragua.net</td>\n",
       "      <td>0</td>\n",
       "      <td>1</td>\n",
       "      <td>1</td>\n",
       "      <td>3</td>\n",
       "      <td>2</td>\n",
       "      <td>...</td>\n",
       "      <td>0</td>\n",
       "      <td>0</td>\n",
       "      <td>0</td>\n",
       "      <td>0</td>\n",
       "      <td>0</td>\n",
       "      <td>0</td>\n",
       "      <td>1</td>\n",
       "      <td>1</td>\n",
       "      <td>0</td>\n",
       "      <td>22</td>\n",
       "    </tr>\n",
       "  </tbody>\n",
       "</table>\n",
       "<p>5 rows × 21 columns</p>\n",
       "</div>"
      ],
      "text/plain": [
       "                                                 url        type  Category  \\\n",
       "0                                   br-icloud.com.br    phishing         2   \n",
       "1                mp3raid.com/music/krizz_kaliko.html      benign         0   \n",
       "2                    bopsecrets.org/rexroth/cr/1.htm      benign         0   \n",
       "3  http://garage-pirenne.be/index.php?option=com_...  defacement         1   \n",
       "4  http://adventure-nicaragua.net/index.php?optio...  defacement         1   \n",
       "\n",
       "   url_len                   domain  @  ?  -  =  .  ...  %  +  $  !  *  ,  //  \\\n",
       "0       16         br-icloud.com.br  0  0  1  0  2  ...  0  0  0  0  0  0   0   \n",
       "1       35              mp3raid.com  0  0  0  0  2  ...  0  0  0  0  0  0   0   \n",
       "2       31           bopsecrets.org  0  0  0  0  2  ...  0  0  0  0  0  0   0   \n",
       "3       84        garage-pirenne.be  0  1  1  4  2  ...  0  0  0  0  0  0   1   \n",
       "4      235  adventure-nicaragua.net  0  1  1  3  2  ...  0  0  0  0  0  0   1   \n",
       "\n",
       "   abnormal_url  https  digits  \n",
       "0             0      0       0  \n",
       "1             0      0       1  \n",
       "2             0      0       1  \n",
       "3             1      0       7  \n",
       "4             1      0      22  \n",
       "\n",
       "[5 rows x 21 columns]"
      ]
     },
     "execution_count": 65,
     "metadata": {},
     "output_type": "execute_result"
    }
   ],
   "source": [
    "data['digits']= data['url'].apply(lambda i: digit_count(i))\n",
    "data.head()"
   ]
  },
  {
   "cell_type": "markdown",
   "id": "203058ab",
   "metadata": {},
   "source": [
    "#### Counts the number of letter characters in a URL\n"
   ]
  },
  {
   "cell_type": "code",
   "execution_count": 66,
   "id": "e45b8230",
   "metadata": {},
   "outputs": [],
   "source": [
    "def letter_count(url):\n",
    "    letters = 0\n",
    "    for i in url:\n",
    "        if i.isalpha():\n",
    "            letters += 1\n",
    "    return letters"
   ]
  },
  {
   "cell_type": "code",
   "execution_count": 67,
   "id": "97db5555",
   "metadata": {},
   "outputs": [
    {
     "data": {
      "text/html": [
       "<div>\n",
       "<style scoped>\n",
       "    .dataframe tbody tr th:only-of-type {\n",
       "        vertical-align: middle;\n",
       "    }\n",
       "\n",
       "    .dataframe tbody tr th {\n",
       "        vertical-align: top;\n",
       "    }\n",
       "\n",
       "    .dataframe thead th {\n",
       "        text-align: right;\n",
       "    }\n",
       "</style>\n",
       "<table border=\"1\" class=\"dataframe\">\n",
       "  <thead>\n",
       "    <tr style=\"text-align: right;\">\n",
       "      <th></th>\n",
       "      <th>url</th>\n",
       "      <th>type</th>\n",
       "      <th>Category</th>\n",
       "      <th>url_len</th>\n",
       "      <th>domain</th>\n",
       "      <th>@</th>\n",
       "      <th>?</th>\n",
       "      <th>-</th>\n",
       "      <th>=</th>\n",
       "      <th>.</th>\n",
       "      <th>...</th>\n",
       "      <th>+</th>\n",
       "      <th>$</th>\n",
       "      <th>!</th>\n",
       "      <th>*</th>\n",
       "      <th>,</th>\n",
       "      <th>//</th>\n",
       "      <th>abnormal_url</th>\n",
       "      <th>https</th>\n",
       "      <th>digits</th>\n",
       "      <th>letters</th>\n",
       "    </tr>\n",
       "  </thead>\n",
       "  <tbody>\n",
       "    <tr>\n",
       "      <th>0</th>\n",
       "      <td>br-icloud.com.br</td>\n",
       "      <td>phishing</td>\n",
       "      <td>2</td>\n",
       "      <td>16</td>\n",
       "      <td>br-icloud.com.br</td>\n",
       "      <td>0</td>\n",
       "      <td>0</td>\n",
       "      <td>1</td>\n",
       "      <td>0</td>\n",
       "      <td>2</td>\n",
       "      <td>...</td>\n",
       "      <td>0</td>\n",
       "      <td>0</td>\n",
       "      <td>0</td>\n",
       "      <td>0</td>\n",
       "      <td>0</td>\n",
       "      <td>0</td>\n",
       "      <td>0</td>\n",
       "      <td>0</td>\n",
       "      <td>0</td>\n",
       "      <td>13</td>\n",
       "    </tr>\n",
       "    <tr>\n",
       "      <th>1</th>\n",
       "      <td>mp3raid.com/music/krizz_kaliko.html</td>\n",
       "      <td>benign</td>\n",
       "      <td>0</td>\n",
       "      <td>35</td>\n",
       "      <td>mp3raid.com</td>\n",
       "      <td>0</td>\n",
       "      <td>0</td>\n",
       "      <td>0</td>\n",
       "      <td>0</td>\n",
       "      <td>2</td>\n",
       "      <td>...</td>\n",
       "      <td>0</td>\n",
       "      <td>0</td>\n",
       "      <td>0</td>\n",
       "      <td>0</td>\n",
       "      <td>0</td>\n",
       "      <td>0</td>\n",
       "      <td>0</td>\n",
       "      <td>0</td>\n",
       "      <td>1</td>\n",
       "      <td>29</td>\n",
       "    </tr>\n",
       "    <tr>\n",
       "      <th>2</th>\n",
       "      <td>bopsecrets.org/rexroth/cr/1.htm</td>\n",
       "      <td>benign</td>\n",
       "      <td>0</td>\n",
       "      <td>31</td>\n",
       "      <td>bopsecrets.org</td>\n",
       "      <td>0</td>\n",
       "      <td>0</td>\n",
       "      <td>0</td>\n",
       "      <td>0</td>\n",
       "      <td>2</td>\n",
       "      <td>...</td>\n",
       "      <td>0</td>\n",
       "      <td>0</td>\n",
       "      <td>0</td>\n",
       "      <td>0</td>\n",
       "      <td>0</td>\n",
       "      <td>0</td>\n",
       "      <td>0</td>\n",
       "      <td>0</td>\n",
       "      <td>1</td>\n",
       "      <td>25</td>\n",
       "    </tr>\n",
       "    <tr>\n",
       "      <th>3</th>\n",
       "      <td>http://garage-pirenne.be/index.php?option=com_...</td>\n",
       "      <td>defacement</td>\n",
       "      <td>1</td>\n",
       "      <td>84</td>\n",
       "      <td>garage-pirenne.be</td>\n",
       "      <td>0</td>\n",
       "      <td>1</td>\n",
       "      <td>1</td>\n",
       "      <td>4</td>\n",
       "      <td>2</td>\n",
       "      <td>...</td>\n",
       "      <td>0</td>\n",
       "      <td>0</td>\n",
       "      <td>0</td>\n",
       "      <td>0</td>\n",
       "      <td>0</td>\n",
       "      <td>1</td>\n",
       "      <td>1</td>\n",
       "      <td>0</td>\n",
       "      <td>7</td>\n",
       "      <td>60</td>\n",
       "    </tr>\n",
       "    <tr>\n",
       "      <th>4</th>\n",
       "      <td>http://adventure-nicaragua.net/index.php?optio...</td>\n",
       "      <td>defacement</td>\n",
       "      <td>1</td>\n",
       "      <td>235</td>\n",
       "      <td>adventure-nicaragua.net</td>\n",
       "      <td>0</td>\n",
       "      <td>1</td>\n",
       "      <td>1</td>\n",
       "      <td>3</td>\n",
       "      <td>2</td>\n",
       "      <td>...</td>\n",
       "      <td>0</td>\n",
       "      <td>0</td>\n",
       "      <td>0</td>\n",
       "      <td>0</td>\n",
       "      <td>0</td>\n",
       "      <td>1</td>\n",
       "      <td>1</td>\n",
       "      <td>0</td>\n",
       "      <td>22</td>\n",
       "      <td>199</td>\n",
       "    </tr>\n",
       "  </tbody>\n",
       "</table>\n",
       "<p>5 rows × 22 columns</p>\n",
       "</div>"
      ],
      "text/plain": [
       "                                                 url        type  Category  \\\n",
       "0                                   br-icloud.com.br    phishing         2   \n",
       "1                mp3raid.com/music/krizz_kaliko.html      benign         0   \n",
       "2                    bopsecrets.org/rexroth/cr/1.htm      benign         0   \n",
       "3  http://garage-pirenne.be/index.php?option=com_...  defacement         1   \n",
       "4  http://adventure-nicaragua.net/index.php?optio...  defacement         1   \n",
       "\n",
       "   url_len                   domain  @  ?  -  =  .  ...  +  $  !  *  ,  //  \\\n",
       "0       16         br-icloud.com.br  0  0  1  0  2  ...  0  0  0  0  0   0   \n",
       "1       35              mp3raid.com  0  0  0  0  2  ...  0  0  0  0  0   0   \n",
       "2       31           bopsecrets.org  0  0  0  0  2  ...  0  0  0  0  0   0   \n",
       "3       84        garage-pirenne.be  0  1  1  4  2  ...  0  0  0  0  0   1   \n",
       "4      235  adventure-nicaragua.net  0  1  1  3  2  ...  0  0  0  0  0   1   \n",
       "\n",
       "   abnormal_url  https  digits  letters  \n",
       "0             0      0       0       13  \n",
       "1             0      0       1       29  \n",
       "2             0      0       1       25  \n",
       "3             1      0       7       60  \n",
       "4             1      0      22      199  \n",
       "\n",
       "[5 rows x 22 columns]"
      ]
     },
     "execution_count": 67,
     "metadata": {},
     "output_type": "execute_result"
    }
   ],
   "source": [
    "data['letters']= data['url'].apply(lambda i: letter_count(i))\n",
    "data.head()"
   ]
  },
  {
   "cell_type": "markdown",
   "id": "82490294",
   "metadata": {},
   "source": [
    "#### Checks to see whether URL contains a shortening service"
   ]
  },
  {
   "cell_type": "code",
   "execution_count": 68,
   "id": "9fb464f8",
   "metadata": {},
   "outputs": [],
   "source": [
    "def Shortining_Service(url):\n",
    "    match = re.search('bit\\.ly|goo\\.gl|shorte\\.st|go2l\\.ink|x\\.co|ow\\.ly|t\\.co|tinyurl|tr\\.im|is\\.gd|cli\\.gs|'\n",
    "                      'yfrog\\.com|migre\\.me|ff\\.im|tiny\\.cc|url4\\.eu|twit\\.ac|su\\.pr|twurl\\.nl|snipurl\\.com|'\n",
    "                      'short\\.to|BudURL\\.com|ping\\.fm|post\\.ly|Just\\.as|bkite\\.com|snipr\\.com|fic\\.kr|loopt\\.us|'\n",
    "                      'doiop\\.com|short\\.ie|kl\\.am|wp\\.me|rubyurl\\.com|om\\.ly|to\\.ly|bit\\.do|t\\.co|lnkd\\.in|'\n",
    "                      'db\\.tt|qr\\.ae|adf\\.ly|goo\\.gl|bitly\\.com|cur\\.lv|tinyurl\\.com|ow\\.ly|bit\\.ly|ity\\.im|'\n",
    "                      'q\\.gs|is\\.gd|po\\.st|bc\\.vc|twitthis\\.com|u\\.to|j\\.mp|buzurl\\.com|cutt\\.us|u\\.bb|yourls\\.org|'\n",
    "                      'x\\.co|prettylinkpro\\.com|scrnch\\.me|filoops\\.info|vzturl\\.com|qr\\.net|1url\\.com|tweez\\.me|v\\.gd|'\n",
    "                      'tr\\.im|link\\.zip\\.net',\n",
    "                      url)\n",
    "    if match:\n",
    "        return 1\n",
    "    else:\n",
    "        return 0"
   ]
  },
  {
   "cell_type": "code",
   "execution_count": 69,
   "id": "e43420f8",
   "metadata": {},
   "outputs": [
    {
     "data": {
      "image/png": "[encoded data removed]",
      "text/plain": [
       "<Figure size 640x480 with 1 Axes>"
      ]
     },
     "metadata": {},
     "output_type": "display_data"
    }
   ],
   "source": [
    "data['Shortining_Service'] = data['url'].apply(lambda x: Shortining_Service(x))\n",
    "sns.countplot(x='Shortining_Service', data=data);"
   ]
  },
  {
   "cell_type": "markdown",
   "id": "6fdf1b0d",
   "metadata": {},
   "source": [
    "#### checks whether URL contains patterns associated with IP addresses (both IPv4 and IPv6). "
   ]
  },
  {
   "cell_type": "code",
   "execution_count": 70,
   "id": "d5370e53",
   "metadata": {},
   "outputs": [],
   "source": [
    "def having_ip_address(url):\n",
    "    match = re.search(\n",
    "        '(([01]?\\\\d\\\\d?|2[0-4]\\\\d|25[0-5])\\\\.([01]?\\\\d\\\\d?|2[0-4]\\\\d|25[0-5])\\\\.([01]?\\\\d\\\\d?|2[0-4]\\\\d|25[0-5])\\\\.'\n",
    "        '([01]?\\\\d\\\\d?|2[0-4]\\\\d|25[0-5])\\\\/)|'  # IPv4\n",
    "        '(([01]?\\\\d\\\\d?|2[0-4]\\\\d|25[0-5])\\\\.([01]?\\\\d\\\\d?|2[0-4]\\\\d|25[0-5])\\\\.([01]?\\\\d\\\\d?|2[0-4]\\\\d|25[0-5])\\\\.'\n",
    "        '([01]?\\\\d\\\\d?|2[0-4]\\\\d|25[0-5])\\\\/)|'  # IPv4 with port\n",
    "        '((0x[0-9a-fA-F]{1,2})\\\\.(0x[0-9a-fA-F]{1,2})\\\\.(0x[0-9a-fA-F]{1,2})\\\\.(0x[0-9a-fA-F]{1,2})\\\\/)' # IPv4 in hexadecimal\n",
    "        '(?:[a-fA-F0-9]{1,4}:){7}[a-fA-F0-9]{1,4}|'\n",
    "        '([0-9]+(?:\\.[0-9]+){3}:[0-9]+)|'\n",
    "        '((?:(?:\\d|[01]?\\d\\d|2[0-4]\\d|25[0-5])\\.){3}(?:25[0-5]|2[0-4]\\d|[01]?\\d\\d|\\d)(?:\\/\\d{1,2})?)', url)  # Ipv6\n",
    "    if match:\n",
    "        return 1\n",
    "    else:\n",
    "        return 0"
   ]
  },
  {
   "cell_type": "code",
   "execution_count": 71,
   "id": "785582c0",
   "metadata": {},
   "outputs": [
    {
     "data": {
      "text/plain": [
       "having_ip_address\n",
       "0    628648\n",
       "1     12477\n",
       "Name: count, dtype: int64"
      ]
     },
     "execution_count": 71,
     "metadata": {},
     "output_type": "execute_result"
    }
   ],
   "source": [
    "data['having_ip_address'] = data['url'].apply(lambda i: having_ip_address(i))\n",
    "data['having_ip_address'].value_counts()"
   ]
  },
  {
   "cell_type": "code",
   "execution_count": 142,
   "id": "862c660b",
   "metadata": {},
   "outputs": [
    {
     "data": {
      "text/html": [
       "<div>\n",
       "<style scoped>\n",
       "    .dataframe tbody tr th:only-of-type {\n",
       "        vertical-align: middle;\n",
       "    }\n",
       "\n",
       "    .dataframe tbody tr th {\n",
       "        vertical-align: top;\n",
       "    }\n",
       "\n",
       "    .dataframe thead th {\n",
       "        text-align: right;\n",
       "    }\n",
       "</style>\n",
       "<table border=\"1\" class=\"dataframe\">\n",
       "  <thead>\n",
       "    <tr style=\"text-align: right;\">\n",
       "      <th></th>\n",
       "      <th>url</th>\n",
       "    </tr>\n",
       "  </thead>\n",
       "  <tbody>\n",
       "    <tr>\n",
       "      <th>0</th>\n",
       "      <td>kdjhfd</td>\n",
       "    </tr>\n",
       "  </tbody>\n",
       "</table>\n",
       "</div>"
      ],
      "text/plain": [
       "      url\n",
       "0  kdjhfd"
      ]
     },
     "execution_count": 142,
     "metadata": {},
     "output_type": "execute_result"
    }
   ],
   "source": [
    "url = {'url': ['kdjhfd']}\n",
    "df = pd.DataFrame(url)\n",
    "df"
   ]
  },
  {
   "cell_type": "markdown",
   "id": "ccd4c52d",
   "metadata": {},
   "source": [
    "## Train Test Split"
   ]
  },
  {
   "cell_type": "code",
   "execution_count": 73,
   "id": "2e1ef493",
   "metadata": {},
   "outputs": [],
   "source": [
    "X = data.drop(['url','type','Category','domain'],axis=1)#,'type_code'\n",
    "y = data['Category']"
   ]
  },
  {
   "cell_type": "code",
   "execution_count": 74,
   "id": "df77454d",
   "metadata": {},
   "outputs": [],
   "source": [
    "X_train, X_test, y_train, y_test = train_test_split(X, y, test_size=0.2, random_state=2)"
   ]
  },
  {
   "cell_type": "markdown",
   "id": "b37fa0b1",
   "metadata": {},
   "source": [
    "## Training models"
   ]
  },
  {
   "cell_type": "markdown",
   "id": "129fc5af",
   "metadata": {},
   "source": [
    "### Decision Tree Classifier"
   ]
  },
  {
   "cell_type": "code",
   "execution_count": 93,
   "id": "8b3aa29d",
   "metadata": {},
   "outputs": [
    {
     "data": {
      "text/html": [
       "<style>#sk-container-id-6 {color: black;}#sk-container-id-6 pre{padding: 0;}#sk-container-id-6 div.sk-toggleable {background-color: white;}#sk-container-id-6 label.sk-toggleable__label {cursor: pointer;display: block;width: 100%;margin-bottom: 0;padding: 0.3em;box-sizing: border-box;text-align: center;}#sk-container-id-6 label.sk-toggleable__label-arrow:before {content: \"▸\";float: left;margin-right: 0.25em;color: #696969;}#sk-container-id-6 label.sk-toggleable__label-arrow:hover:before {color: black;}#sk-container-id-6 div.sk-estimator:hover label.sk-toggleable__label-arrow:before {color: black;}#sk-container-id-6 div.sk-toggleable__content {max-height: 0;max-width: 0;overflow: hidden;text-align: left;background-color: #f0f8ff;}#sk-container-id-6 div.sk-toggleable__content pre {margin: 0.2em;color: black;border-radius: 0.25em;background-color: #f0f8ff;}#sk-container-id-6 input.sk-toggleable__control:checked~div.sk-toggleable__content {max-height: 200px;max-width: 100%;overflow: auto;}#sk-container-id-6 input.sk-toggleable__control:checked~label.sk-toggleable__label-arrow:before {content: \"▾\";}#sk-container-id-6 div.sk-estimator input.sk-toggleable__control:checked~label.sk-toggleable__label {background-color: #d4ebff;}#sk-container-id-6 div.sk-label input.sk-toggleable__control:checked~label.sk-toggleable__label {background-color: #d4ebff;}#sk-container-id-6 input.sk-hidden--visually {border: 0;clip: rect(1px 1px 1px 1px);clip: rect(1px, 1px, 1px, 1px);height: 1px;margin: -1px;overflow: hidden;padding: 0;position: absolute;width: 1px;}#sk-container-id-6 div.sk-estimator {font-family: monospace;background-color: #f0f8ff;border: 1px dotted black;border-radius: 0.25em;box-sizing: border-box;margin-bottom: 0.5em;}#sk-container-id-6 div.sk-estimator:hover {background-color: #d4ebff;}#sk-container-id-6 div.sk-parallel-item::after {content: \"\";width: 100%;border-bottom: 1px solid gray;flex-grow: 1;}#sk-container-id-6 div.sk-label:hover label.sk-toggleable__label {background-color: #d4ebff;}#sk-container-id-6 div.sk-serial::before {content: \"\";position: absolute;border-left: 1px solid gray;box-sizing: border-box;top: 0;bottom: 0;left: 50%;z-index: 0;}#sk-container-id-6 div.sk-serial {display: flex;flex-direction: column;align-items: center;background-color: white;padding-right: 0.2em;padding-left: 0.2em;position: relative;}#sk-container-id-6 div.sk-item {position: relative;z-index: 1;}#sk-container-id-6 div.sk-parallel {display: flex;align-items: stretch;justify-content: center;background-color: white;position: relative;}#sk-container-id-6 div.sk-item::before, #sk-container-id-6 div.sk-parallel-item::before {content: \"\";position: absolute;border-left: 1px solid gray;box-sizing: border-box;top: 0;bottom: 0;left: 50%;z-index: -1;}#sk-container-id-6 div.sk-parallel-item {display: flex;flex-direction: column;z-index: 1;position: relative;background-color: white;}#sk-container-id-6 div.sk-parallel-item:first-child::after {align-self: flex-end;width: 50%;}#sk-container-id-6 div.sk-parallel-item:last-child::after {align-self: flex-start;width: 50%;}#sk-container-id-6 div.sk-parallel-item:only-child::after {width: 0;}#sk-container-id-6 div.sk-dashed-wrapped {border: 1px dashed gray;margin: 0 0.4em 0.5em 0.4em;box-sizing: border-box;padding-bottom: 0.4em;background-color: white;}#sk-container-id-6 div.sk-label label {font-family: monospace;font-weight: bold;display: inline-block;line-height: 1.2em;}#sk-container-id-6 div.sk-label-container {text-align: center;}#sk-container-id-6 div.sk-container {/* jupyter's `normalize.less` sets `[hidden] { display: none; }` but bootstrap.min.css set `[hidden] { display: none !important; }` so we also need the `!important` here to be able to override the default hidden behavior on the sphinx rendered scikit-learn.org. See: https://github.com/scikit-learn/scikit-learn/issues/21755 */display: inline-block !important;position: relative;}#sk-container-id-6 div.sk-text-repr-fallback {display: none;}</style><div id=\"sk-container-id-6\" class=\"sk-top-container\"><div class=\"sk-text-repr-fallback\"><pre>DecisionTreeClassifier()</pre><b>In a Jupyter environment, please rerun this cell to show the HTML representation or trust the notebook. <br />On GitHub, the HTML representation is unable to render, please try loading this page with nbviewer.org.</b></div><div class=\"sk-container\" hidden><div class=\"sk-item\"><div class=\"sk-estimator sk-toggleable\"><input class=\"sk-toggleable__control sk-hidden--visually\" id=\"sk-estimator-id-6\" type=\"checkbox\" checked><label for=\"sk-estimator-id-6\" class=\"sk-toggleable__label sk-toggleable__label-arrow\">DecisionTreeClassifier</label><div class=\"sk-toggleable__content\"><pre>DecisionTreeClassifier()</pre></div></div></div></div></div>"
      ],
      "text/plain": [
       "DecisionTreeClassifier()"
      ]
     },
     "execution_count": 93,
     "metadata": {},
     "output_type": "execute_result"
    }
   ],
   "source": [
    "DT = DecisionTreeClassifier()\n",
    "DT.fit(X_train,y_train)"
   ]
  },
  {
   "cell_type": "code",
   "execution_count": 94,
   "id": "fdec9935",
   "metadata": {},
   "outputs": [
    {
     "name": "stdout",
     "output_type": "stream",
     "text": [
      "Test Accuracy :\u001b[32m \u001b[01m 90.65% \u001b[30m \u001b[0m\n",
      "\u001b[01m              Classification_report \u001b[0m\n",
      "              precision    recall  f1-score   support\n",
      "\n",
      "           0       0.92      0.97      0.94     85461\n",
      "           1       0.93      0.96      0.94     19189\n",
      "           2       0.80      0.56      0.66     18898\n",
      "           3       0.92      0.87      0.89      4677\n",
      "\n",
      "    accuracy                           0.91    128225\n",
      "   macro avg       0.89      0.84      0.86    128225\n",
      "weighted avg       0.90      0.91      0.90    128225\n",
      "\n",
      "\u001b[01m             Confusion_matrix \u001b[0m\n"
     ]
    },
    {
     "data": {
      "image/png": "[encoded data removed]",
      "text/plain": [
       "<Figure size 640x480 with 2 Axes>"
      ]
     },
     "metadata": {},
     "output_type": "display_data"
    }
   ],
   "source": [
    "DT_pred =  DT.predict(X_test)\n",
    "DT_accuracy = accuracy_score(DT_pred, y_test)\n",
    "\n",
    "print('Test Accuracy :\\033[32m \\033[01m {:.2f}% \\033[30m \\033[0m'.format(DT_accuracy*100))\n",
    "print('\\033[01m              Classification_report \\033[0m')\n",
    "print(classification_report(y_test, DT_pred))\n",
    "print('\\033[01m             Confusion_matrix \\033[0m')\n",
    "DT_cf_matrix = confusion_matrix(y_test, DT_pred)\n",
    "plot_ = sns.heatmap(DT_cf_matrix/np.sum(DT_cf_matrix), annot=True,fmt= '0.2%')\n",
    "plt.show()"
   ]
  },
  {
   "cell_type": "markdown",
   "id": "43eb6fa3",
   "metadata": {},
   "source": [
    "### Random Forest Classifier"
   ]
  },
  {
   "cell_type": "code",
   "execution_count": 99,
   "id": "83af0054",
   "metadata": {},
   "outputs": [
    {
     "data": {
      "text/html": [
       "<style>#sk-container-id-9 {color: black;}#sk-container-id-9 pre{padding: 0;}#sk-container-id-9 div.sk-toggleable {background-color: white;}#sk-container-id-9 label.sk-toggleable__label {cursor: pointer;display: block;width: 100%;margin-bottom: 0;padding: 0.3em;box-sizing: border-box;text-align: center;}#sk-container-id-9 label.sk-toggleable__label-arrow:before {content: \"▸\";float: left;margin-right: 0.25em;color: #696969;}#sk-container-id-9 label.sk-toggleable__label-arrow:hover:before {color: black;}#sk-container-id-9 div.sk-estimator:hover label.sk-toggleable__label-arrow:before {color: black;}#sk-container-id-9 div.sk-toggleable__content {max-height: 0;max-width: 0;overflow: hidden;text-align: left;background-color: #f0f8ff;}#sk-container-id-9 div.sk-toggleable__content pre {margin: 0.2em;color: black;border-radius: 0.25em;background-color: #f0f8ff;}#sk-container-id-9 input.sk-toggleable__control:checked~div.sk-toggleable__content {max-height: 200px;max-width: 100%;overflow: auto;}#sk-container-id-9 input.sk-toggleable__control:checked~label.sk-toggleable__label-arrow:before {content: \"▾\";}#sk-container-id-9 div.sk-estimator input.sk-toggleable__control:checked~label.sk-toggleable__label {background-color: #d4ebff;}#sk-container-id-9 div.sk-label input.sk-toggleable__control:checked~label.sk-toggleable__label {background-color: #d4ebff;}#sk-container-id-9 input.sk-hidden--visually {border: 0;clip: rect(1px 1px 1px 1px);clip: rect(1px, 1px, 1px, 1px);height: 1px;margin: -1px;overflow: hidden;padding: 0;position: absolute;width: 1px;}#sk-container-id-9 div.sk-estimator {font-family: monospace;background-color: #f0f8ff;border: 1px dotted black;border-radius: 0.25em;box-sizing: border-box;margin-bottom: 0.5em;}#sk-container-id-9 div.sk-estimator:hover {background-color: #d4ebff;}#sk-container-id-9 div.sk-parallel-item::after {content: \"\";width: 100%;border-bottom: 1px solid gray;flex-grow: 1;}#sk-container-id-9 div.sk-label:hover label.sk-toggleable__label {background-color: #d4ebff;}#sk-container-id-9 div.sk-serial::before {content: \"\";position: absolute;border-left: 1px solid gray;box-sizing: border-box;top: 0;bottom: 0;left: 50%;z-index: 0;}#sk-container-id-9 div.sk-serial {display: flex;flex-direction: column;align-items: center;background-color: white;padding-right: 0.2em;padding-left: 0.2em;position: relative;}#sk-container-id-9 div.sk-item {position: relative;z-index: 1;}#sk-container-id-9 div.sk-parallel {display: flex;align-items: stretch;justify-content: center;background-color: white;position: relative;}#sk-container-id-9 div.sk-item::before, #sk-container-id-9 div.sk-parallel-item::before {content: \"\";position: absolute;border-left: 1px solid gray;box-sizing: border-box;top: 0;bottom: 0;left: 50%;z-index: -1;}#sk-container-id-9 div.sk-parallel-item {display: flex;flex-direction: column;z-index: 1;position: relative;background-color: white;}#sk-container-id-9 div.sk-parallel-item:first-child::after {align-self: flex-end;width: 50%;}#sk-container-id-9 div.sk-parallel-item:last-child::after {align-self: flex-start;width: 50%;}#sk-container-id-9 div.sk-parallel-item:only-child::after {width: 0;}#sk-container-id-9 div.sk-dashed-wrapped {border: 1px dashed gray;margin: 0 0.4em 0.5em 0.4em;box-sizing: border-box;padding-bottom: 0.4em;background-color: white;}#sk-container-id-9 div.sk-label label {font-family: monospace;font-weight: bold;display: inline-block;line-height: 1.2em;}#sk-container-id-9 div.sk-label-container {text-align: center;}#sk-container-id-9 div.sk-container {/* jupyter's `normalize.less` sets `[hidden] { display: none; }` but bootstrap.min.css set `[hidden] { display: none !important; }` so we also need the `!important` here to be able to override the default hidden behavior on the sphinx rendered scikit-learn.org. See: https://github.com/scikit-learn/scikit-learn/issues/21755 */display: inline-block !important;position: relative;}#sk-container-id-9 div.sk-text-repr-fallback {display: none;}</style><div id=\"sk-container-id-9\" class=\"sk-top-container\"><div class=\"sk-text-repr-fallback\"><pre>RandomForestClassifier()</pre><b>In a Jupyter environment, please rerun this cell to show the HTML representation or trust the notebook. <br />On GitHub, the HTML representation is unable to render, please try loading this page with nbviewer.org.</b></div><div class=\"sk-container\" hidden><div class=\"sk-item\"><div class=\"sk-estimator sk-toggleable\"><input class=\"sk-toggleable__control sk-hidden--visually\" id=\"sk-estimator-id-9\" type=\"checkbox\" checked><label for=\"sk-estimator-id-9\" class=\"sk-toggleable__label sk-toggleable__label-arrow\">RandomForestClassifier</label><div class=\"sk-toggleable__content\"><pre>RandomForestClassifier()</pre></div></div></div></div></div>"
      ],
      "text/plain": [
       "RandomForestClassifier()"
      ]
     },
     "execution_count": 99,
     "metadata": {},
     "output_type": "execute_result"
    }
   ],
   "source": [
    "RF = RandomForestClassifier()\n",
    "RF.fit(X_train,y_train)"
   ]
  },
  {
   "cell_type": "code",
   "execution_count": 100,
   "id": "e5625d10",
   "metadata": {},
   "outputs": [
    {
     "name": "stdout",
     "output_type": "stream",
     "text": [
      "Test Accuracy :\u001b[32m \u001b[01m 91.20% \u001b[30m \u001b[0m\n",
      "\u001b[01m              Classification_report \u001b[0m\n",
      "              precision    recall  f1-score   support\n",
      "\n",
      "           0       0.92      0.98      0.95     85461\n",
      "           1       0.93      0.97      0.95     19189\n",
      "           2       0.83      0.57      0.67     18898\n",
      "           3       0.95      0.87      0.91      4677\n",
      "\n",
      "    accuracy                           0.91    128225\n",
      "   macro avg       0.91      0.84      0.87    128225\n",
      "weighted avg       0.91      0.91      0.91    128225\n",
      "\n",
      "\u001b[01m             Confusion_matrix \u001b[0m\n"
     ]
    },
    {
     "data": {
      "image/png": "[encoded data removed]",
      "text/plain": [
       "<Figure size 640x480 with 2 Axes>"
      ]
     },
     "metadata": {},
     "output_type": "display_data"
    }
   ],
   "source": [
    "RF_pred =  RF.predict(X_test)\n",
    "RF_accuracy = accuracy_score(RF_pred, y_test)\n",
    "\n",
    "print('Test Accuracy :\\033[32m \\033[01m {:.2f}% \\033[30m \\033[0m'.format(RF_accuracy*100))\n",
    "print('\\033[01m              Classification_report \\033[0m')\n",
    "print(classification_report(y_test, RF_pred))\n",
    "print('\\033[01m             Confusion_matrix \\033[0m')\n",
    "RF_cf_matrix = confusion_matrix(y_test, RF_pred)\n",
    "plot_ = sns.heatmap(RF_cf_matrix/np.sum(RF_cf_matrix), annot=True,fmt= '0.2%')\n",
    "plt.show()"
   ]
  },
  {
   "cell_type": "markdown",
   "id": "42dd5002",
   "metadata": {},
   "source": [
    "### Ada Boost Classifier"
   ]
  },
  {
   "cell_type": "code",
   "execution_count": 97,
   "id": "101028ce",
   "metadata": {},
   "outputs": [
    {
     "data": {
      "text/html": [
       "<style>#sk-container-id-8 {color: black;}#sk-container-id-8 pre{padding: 0;}#sk-container-id-8 div.sk-toggleable {background-color: white;}#sk-container-id-8 label.sk-toggleable__label {cursor: pointer;display: block;width: 100%;margin-bottom: 0;padding: 0.3em;box-sizing: border-box;text-align: center;}#sk-container-id-8 label.sk-toggleable__label-arrow:before {content: \"▸\";float: left;margin-right: 0.25em;color: #696969;}#sk-container-id-8 label.sk-toggleable__label-arrow:hover:before {color: black;}#sk-container-id-8 div.sk-estimator:hover label.sk-toggleable__label-arrow:before {color: black;}#sk-container-id-8 div.sk-toggleable__content {max-height: 0;max-width: 0;overflow: hidden;text-align: left;background-color: #f0f8ff;}#sk-container-id-8 div.sk-toggleable__content pre {margin: 0.2em;color: black;border-radius: 0.25em;background-color: #f0f8ff;}#sk-container-id-8 input.sk-toggleable__control:checked~div.sk-toggleable__content {max-height: 200px;max-width: 100%;overflow: auto;}#sk-container-id-8 input.sk-toggleable__control:checked~label.sk-toggleable__label-arrow:before {content: \"▾\";}#sk-container-id-8 div.sk-estimator input.sk-toggleable__control:checked~label.sk-toggleable__label {background-color: #d4ebff;}#sk-container-id-8 div.sk-label input.sk-toggleable__control:checked~label.sk-toggleable__label {background-color: #d4ebff;}#sk-container-id-8 input.sk-hidden--visually {border: 0;clip: rect(1px 1px 1px 1px);clip: rect(1px, 1px, 1px, 1px);height: 1px;margin: -1px;overflow: hidden;padding: 0;position: absolute;width: 1px;}#sk-container-id-8 div.sk-estimator {font-family: monospace;background-color: #f0f8ff;border: 1px dotted black;border-radius: 0.25em;box-sizing: border-box;margin-bottom: 0.5em;}#sk-container-id-8 div.sk-estimator:hover {background-color: #d4ebff;}#sk-container-id-8 div.sk-parallel-item::after {content: \"\";width: 100%;border-bottom: 1px solid gray;flex-grow: 1;}#sk-container-id-8 div.sk-label:hover label.sk-toggleable__label {background-color: #d4ebff;}#sk-container-id-8 div.sk-serial::before {content: \"\";position: absolute;border-left: 1px solid gray;box-sizing: border-box;top: 0;bottom: 0;left: 50%;z-index: 0;}#sk-container-id-8 div.sk-serial {display: flex;flex-direction: column;align-items: center;background-color: white;padding-right: 0.2em;padding-left: 0.2em;position: relative;}#sk-container-id-8 div.sk-item {position: relative;z-index: 1;}#sk-container-id-8 div.sk-parallel {display: flex;align-items: stretch;justify-content: center;background-color: white;position: relative;}#sk-container-id-8 div.sk-item::before, #sk-container-id-8 div.sk-parallel-item::before {content: \"\";position: absolute;border-left: 1px solid gray;box-sizing: border-box;top: 0;bottom: 0;left: 50%;z-index: -1;}#sk-container-id-8 div.sk-parallel-item {display: flex;flex-direction: column;z-index: 1;position: relative;background-color: white;}#sk-container-id-8 div.sk-parallel-item:first-child::after {align-self: flex-end;width: 50%;}#sk-container-id-8 div.sk-parallel-item:last-child::after {align-self: flex-start;width: 50%;}#sk-container-id-8 div.sk-parallel-item:only-child::after {width: 0;}#sk-container-id-8 div.sk-dashed-wrapped {border: 1px dashed gray;margin: 0 0.4em 0.5em 0.4em;box-sizing: border-box;padding-bottom: 0.4em;background-color: white;}#sk-container-id-8 div.sk-label label {font-family: monospace;font-weight: bold;display: inline-block;line-height: 1.2em;}#sk-container-id-8 div.sk-label-container {text-align: center;}#sk-container-id-8 div.sk-container {/* jupyter's `normalize.less` sets `[hidden] { display: none; }` but bootstrap.min.css set `[hidden] { display: none !important; }` so we also need the `!important` here to be able to override the default hidden behavior on the sphinx rendered scikit-learn.org. See: https://github.com/scikit-learn/scikit-learn/issues/21755 */display: inline-block !important;position: relative;}#sk-container-id-8 div.sk-text-repr-fallback {display: none;}</style><div id=\"sk-container-id-8\" class=\"sk-top-container\"><div class=\"sk-text-repr-fallback\"><pre>AdaBoostClassifier()</pre><b>In a Jupyter environment, please rerun this cell to show the HTML representation or trust the notebook. <br />On GitHub, the HTML representation is unable to render, please try loading this page with nbviewer.org.</b></div><div class=\"sk-container\" hidden><div class=\"sk-item\"><div class=\"sk-estimator sk-toggleable\"><input class=\"sk-toggleable__control sk-hidden--visually\" id=\"sk-estimator-id-8\" type=\"checkbox\" checked><label for=\"sk-estimator-id-8\" class=\"sk-toggleable__label sk-toggleable__label-arrow\">AdaBoostClassifier</label><div class=\"sk-toggleable__content\"><pre>AdaBoostClassifier()</pre></div></div></div></div></div>"
      ],
      "text/plain": [
       "AdaBoostClassifier()"
      ]
     },
     "execution_count": 97,
     "metadata": {},
     "output_type": "execute_result"
    }
   ],
   "source": [
    "AB = AdaBoostClassifier()\n",
    "AB.fit(X_train,y_train)"
   ]
  },
  {
   "cell_type": "code",
   "execution_count": 98,
   "id": "371062d7",
   "metadata": {},
   "outputs": [
    {
     "name": "stdout",
     "output_type": "stream",
     "text": [
      "Test Accuracy :\u001b[32m \u001b[01m 81.85% \u001b[30m \u001b[0m\n",
      "\u001b[01m              Classification_report \u001b[0m\n",
      "              precision    recall  f1-score   support\n",
      "\n",
      "           0       0.84      0.99      0.91     85461\n",
      "           1       0.84      0.91      0.87     19189\n",
      "           2       0.38      0.14      0.21     18898\n",
      "           3       0.94      0.14      0.24      4677\n",
      "\n",
      "    accuracy                           0.82    128225\n",
      "   macro avg       0.75      0.54      0.56    128225\n",
      "weighted avg       0.78      0.82      0.78    128225\n",
      "\n",
      "\u001b[01m             Confusion_matrix \u001b[0m\n"
     ]
    },
    {
     "data": {
      "image/png": "[encoded data removed]",
      "text/plain": [
       "<Figure size 640x480 with 2 Axes>"
      ]
     },
     "metadata": {},
     "output_type": "display_data"
    }
   ],
   "source": [
    "AB_pred =  AB.predict(X_test)\n",
    "AB_accuracy = accuracy_score(AB_pred, y_test)\n",
    "\n",
    "print('Test Accuracy :\\033[32m \\033[01m {:.2f}% \\033[30m \\033[0m'.format(AB_accuracy*100))\n",
    "print('\\033[01m              Classification_report \\033[0m')\n",
    "print(classification_report(y_test, AB_pred))\n",
    "print('\\033[01m             Confusion_matrix \\033[0m')\n",
    "AB_cf_matrix = confusion_matrix(y_test, AB_pred)\n",
    "plot_ = sns.heatmap(AB_cf_matrix/np.sum(AB_cf_matrix), annot=True,fmt= '0.2%')\n",
    "plt.show()"
   ]
  },
  {
   "cell_type": "markdown",
   "id": "a358fe6d",
   "metadata": {},
   "source": [
    "### SGD (stochastic gradient descent) Classifier"
   ]
  },
  {
   "cell_type": "code",
   "execution_count": 104,
   "id": "589807b0",
   "metadata": {},
   "outputs": [
    {
     "data": {
      "text/html": [
       "<style>#sk-container-id-11 {color: black;}#sk-container-id-11 pre{padding: 0;}#sk-container-id-11 div.sk-toggleable {background-color: white;}#sk-container-id-11 label.sk-toggleable__label {cursor: pointer;display: block;width: 100%;margin-bottom: 0;padding: 0.3em;box-sizing: border-box;text-align: center;}#sk-container-id-11 label.sk-toggleable__label-arrow:before {content: \"▸\";float: left;margin-right: 0.25em;color: #696969;}#sk-container-id-11 label.sk-toggleable__label-arrow:hover:before {color: black;}#sk-container-id-11 div.sk-estimator:hover label.sk-toggleable__label-arrow:before {color: black;}#sk-container-id-11 div.sk-toggleable__content {max-height: 0;max-width: 0;overflow: hidden;text-align: left;background-color: #f0f8ff;}#sk-container-id-11 div.sk-toggleable__content pre {margin: 0.2em;color: black;border-radius: 0.25em;background-color: #f0f8ff;}#sk-container-id-11 input.sk-toggleable__control:checked~div.sk-toggleable__content {max-height: 200px;max-width: 100%;overflow: auto;}#sk-container-id-11 input.sk-toggleable__control:checked~label.sk-toggleable__label-arrow:before {content: \"▾\";}#sk-container-id-11 div.sk-estimator input.sk-toggleable__control:checked~label.sk-toggleable__label {background-color: #d4ebff;}#sk-container-id-11 div.sk-label input.sk-toggleable__control:checked~label.sk-toggleable__label {background-color: #d4ebff;}#sk-container-id-11 input.sk-hidden--visually {border: 0;clip: rect(1px 1px 1px 1px);clip: rect(1px, 1px, 1px, 1px);height: 1px;margin: -1px;overflow: hidden;padding: 0;position: absolute;width: 1px;}#sk-container-id-11 div.sk-estimator {font-family: monospace;background-color: #f0f8ff;border: 1px dotted black;border-radius: 0.25em;box-sizing: border-box;margin-bottom: 0.5em;}#sk-container-id-11 div.sk-estimator:hover {background-color: #d4ebff;}#sk-container-id-11 div.sk-parallel-item::after {content: \"\";width: 100%;border-bottom: 1px solid gray;flex-grow: 1;}#sk-container-id-11 div.sk-label:hover label.sk-toggleable__label {background-color: #d4ebff;}#sk-container-id-11 div.sk-serial::before {content: \"\";position: absolute;border-left: 1px solid gray;box-sizing: border-box;top: 0;bottom: 0;left: 50%;z-index: 0;}#sk-container-id-11 div.sk-serial {display: flex;flex-direction: column;align-items: center;background-color: white;padding-right: 0.2em;padding-left: 0.2em;position: relative;}#sk-container-id-11 div.sk-item {position: relative;z-index: 1;}#sk-container-id-11 div.sk-parallel {display: flex;align-items: stretch;justify-content: center;background-color: white;position: relative;}#sk-container-id-11 div.sk-item::before, #sk-container-id-11 div.sk-parallel-item::before {content: \"\";position: absolute;border-left: 1px solid gray;box-sizing: border-box;top: 0;bottom: 0;left: 50%;z-index: -1;}#sk-container-id-11 div.sk-parallel-item {display: flex;flex-direction: column;z-index: 1;position: relative;background-color: white;}#sk-container-id-11 div.sk-parallel-item:first-child::after {align-self: flex-end;width: 50%;}#sk-container-id-11 div.sk-parallel-item:last-child::after {align-self: flex-start;width: 50%;}#sk-container-id-11 div.sk-parallel-item:only-child::after {width: 0;}#sk-container-id-11 div.sk-dashed-wrapped {border: 1px dashed gray;margin: 0 0.4em 0.5em 0.4em;box-sizing: border-box;padding-bottom: 0.4em;background-color: white;}#sk-container-id-11 div.sk-label label {font-family: monospace;font-weight: bold;display: inline-block;line-height: 1.2em;}#sk-container-id-11 div.sk-label-container {text-align: center;}#sk-container-id-11 div.sk-container {/* jupyter's `normalize.less` sets `[hidden] { display: none; }` but bootstrap.min.css set `[hidden] { display: none !important; }` so we also need the `!important` here to be able to override the default hidden behavior on the sphinx rendered scikit-learn.org. See: https://github.com/scikit-learn/scikit-learn/issues/21755 */display: inline-block !important;position: relative;}#sk-container-id-11 div.sk-text-repr-fallback {display: none;}</style><div id=\"sk-container-id-11\" class=\"sk-top-container\"><div class=\"sk-text-repr-fallback\"><pre>SGDClassifier()</pre><b>In a Jupyter environment, please rerun this cell to show the HTML representation or trust the notebook. <br />On GitHub, the HTML representation is unable to render, please try loading this page with nbviewer.org.</b></div><div class=\"sk-container\" hidden><div class=\"sk-item\"><div class=\"sk-estimator sk-toggleable\"><input class=\"sk-toggleable__control sk-hidden--visually\" id=\"sk-estimator-id-11\" type=\"checkbox\" checked><label for=\"sk-estimator-id-11\" class=\"sk-toggleable__label sk-toggleable__label-arrow\">SGDClassifier</label><div class=\"sk-toggleable__content\"><pre>SGDClassifier()</pre></div></div></div></div></div>"
      ],
      "text/plain": [
       "SGDClassifier()"
      ]
     },
     "execution_count": 104,
     "metadata": {},
     "output_type": "execute_result"
    }
   ],
   "source": [
    "SGD = SGDClassifier()\n",
    "SGD.fit(X_train,y_train)"
   ]
  },
  {
   "cell_type": "code",
   "execution_count": 105,
   "id": "d28afe3d",
   "metadata": {},
   "outputs": [
    {
     "name": "stdout",
     "output_type": "stream",
     "text": [
      "Test Accuracy :\u001b[32m \u001b[01m 82.33% \u001b[30m \u001b[0m\n",
      "\u001b[01m              Classification_report \u001b[0m\n",
      "              precision    recall  f1-score   support\n",
      "\n",
      "           0       0.84      0.97      0.90     85461\n",
      "           1       0.78      0.96      0.86     19189\n",
      "           2       0.43      0.05      0.09     18898\n",
      "           3       0.78      0.77      0.78      4677\n",
      "\n",
      "    accuracy                           0.82    128225\n",
      "   macro avg       0.71      0.69      0.66    128225\n",
      "weighted avg       0.77      0.82      0.77    128225\n",
      "\n",
      "\u001b[01m             Confusion_matrix \u001b[0m\n"
     ]
    },
    {
     "data": {
      "image/png": "[encoded data removed]",
      "text/plain": [
       "<Figure size 640x480 with 2 Axes>"
      ]
     },
     "metadata": {},
     "output_type": "display_data"
    }
   ],
   "source": [
    "SGD_pred = SGD.predict(X_test)\n",
    "SGD_accuracy = accuracy_score(SGD_pred, y_test)\n",
    "\n",
    "print('Test Accuracy :\\033[32m \\033[01m {:.2f}% \\033[30m \\033[0m'.format(SGD_accuracy*100))\n",
    "print('\\033[01m              Classification_report \\033[0m')\n",
    "print(classification_report(y_test, SGD_pred))\n",
    "print('\\033[01m             Confusion_matrix \\033[0m')\n",
    "SGD_cf_matrix = confusion_matrix(y_test, SGD_pred)\n",
    "plot_ = sns.heatmap(SGD_cf_matrix/np.sum(SGD_cf_matrix), annot=True,fmt= '0.2%')\n",
    "plt.show()"
   ]
  },
  {
   "cell_type": "markdown",
   "id": "027bee5a",
   "metadata": {},
   "source": [
    "### Extra Trees Classifier"
   ]
  },
  {
   "cell_type": "code",
   "execution_count": 106,
   "id": "e12c5792",
   "metadata": {},
   "outputs": [
    {
     "data": {
      "text/html": [
       "<style>#sk-container-id-12 {color: black;}#sk-container-id-12 pre{padding: 0;}#sk-container-id-12 div.sk-toggleable {background-color: white;}#sk-container-id-12 label.sk-toggleable__label {cursor: pointer;display: block;width: 100%;margin-bottom: 0;padding: 0.3em;box-sizing: border-box;text-align: center;}#sk-container-id-12 label.sk-toggleable__label-arrow:before {content: \"▸\";float: left;margin-right: 0.25em;color: #696969;}#sk-container-id-12 label.sk-toggleable__label-arrow:hover:before {color: black;}#sk-container-id-12 div.sk-estimator:hover label.sk-toggleable__label-arrow:before {color: black;}#sk-container-id-12 div.sk-toggleable__content {max-height: 0;max-width: 0;overflow: hidden;text-align: left;background-color: #f0f8ff;}#sk-container-id-12 div.sk-toggleable__content pre {margin: 0.2em;color: black;border-radius: 0.25em;background-color: #f0f8ff;}#sk-container-id-12 input.sk-toggleable__control:checked~div.sk-toggleable__content {max-height: 200px;max-width: 100%;overflow: auto;}#sk-container-id-12 input.sk-toggleable__control:checked~label.sk-toggleable__label-arrow:before {content: \"▾\";}#sk-container-id-12 div.sk-estimator input.sk-toggleable__control:checked~label.sk-toggleable__label {background-color: #d4ebff;}#sk-container-id-12 div.sk-label input.sk-toggleable__control:checked~label.sk-toggleable__label {background-color: #d4ebff;}#sk-container-id-12 input.sk-hidden--visually {border: 0;clip: rect(1px 1px 1px 1px);clip: rect(1px, 1px, 1px, 1px);height: 1px;margin: -1px;overflow: hidden;padding: 0;position: absolute;width: 1px;}#sk-container-id-12 div.sk-estimator {font-family: monospace;background-color: #f0f8ff;border: 1px dotted black;border-radius: 0.25em;box-sizing: border-box;margin-bottom: 0.5em;}#sk-container-id-12 div.sk-estimator:hover {background-color: #d4ebff;}#sk-container-id-12 div.sk-parallel-item::after {content: \"\";width: 100%;border-bottom: 1px solid gray;flex-grow: 1;}#sk-container-id-12 div.sk-label:hover label.sk-toggleable__label {background-color: #d4ebff;}#sk-container-id-12 div.sk-serial::before {content: \"\";position: absolute;border-left: 1px solid gray;box-sizing: border-box;top: 0;bottom: 0;left: 50%;z-index: 0;}#sk-container-id-12 div.sk-serial {display: flex;flex-direction: column;align-items: center;background-color: white;padding-right: 0.2em;padding-left: 0.2em;position: relative;}#sk-container-id-12 div.sk-item {position: relative;z-index: 1;}#sk-container-id-12 div.sk-parallel {display: flex;align-items: stretch;justify-content: center;background-color: white;position: relative;}#sk-container-id-12 div.sk-item::before, #sk-container-id-12 div.sk-parallel-item::before {content: \"\";position: absolute;border-left: 1px solid gray;box-sizing: border-box;top: 0;bottom: 0;left: 50%;z-index: -1;}#sk-container-id-12 div.sk-parallel-item {display: flex;flex-direction: column;z-index: 1;position: relative;background-color: white;}#sk-container-id-12 div.sk-parallel-item:first-child::after {align-self: flex-end;width: 50%;}#sk-container-id-12 div.sk-parallel-item:last-child::after {align-self: flex-start;width: 50%;}#sk-container-id-12 div.sk-parallel-item:only-child::after {width: 0;}#sk-container-id-12 div.sk-dashed-wrapped {border: 1px dashed gray;margin: 0 0.4em 0.5em 0.4em;box-sizing: border-box;padding-bottom: 0.4em;background-color: white;}#sk-container-id-12 div.sk-label label {font-family: monospace;font-weight: bold;display: inline-block;line-height: 1.2em;}#sk-container-id-12 div.sk-label-container {text-align: center;}#sk-container-id-12 div.sk-container {/* jupyter's `normalize.less` sets `[hidden] { display: none; }` but bootstrap.min.css set `[hidden] { display: none !important; }` so we also need the `!important` here to be able to override the default hidden behavior on the sphinx rendered scikit-learn.org. See: https://github.com/scikit-learn/scikit-learn/issues/21755 */display: inline-block !important;position: relative;}#sk-container-id-12 div.sk-text-repr-fallback {display: none;}</style><div id=\"sk-container-id-12\" class=\"sk-top-container\"><div class=\"sk-text-repr-fallback\"><pre>ExtraTreesClassifier()</pre><b>In a Jupyter environment, please rerun this cell to show the HTML representation or trust the notebook. <br />On GitHub, the HTML representation is unable to render, please try loading this page with nbviewer.org.</b></div><div class=\"sk-container\" hidden><div class=\"sk-item\"><div class=\"sk-estimator sk-toggleable\"><input class=\"sk-toggleable__control sk-hidden--visually\" id=\"sk-estimator-id-12\" type=\"checkbox\" checked><label for=\"sk-estimator-id-12\" class=\"sk-toggleable__label sk-toggleable__label-arrow\">ExtraTreesClassifier</label><div class=\"sk-toggleable__content\"><pre>ExtraTreesClassifier()</pre></div></div></div></div></div>"
      ],
      "text/plain": [
       "ExtraTreesClassifier()"
      ]
     },
     "execution_count": 106,
     "metadata": {},
     "output_type": "execute_result"
    }
   ],
   "source": [
    "ET = ExtraTreesClassifier()\n",
    "ET.fit(X_train,y_train)"
   ]
  },
  {
   "cell_type": "code",
   "execution_count": 107,
   "id": "3630158b",
   "metadata": {},
   "outputs": [
    {
     "name": "stdout",
     "output_type": "stream",
     "text": [
      "Test Accuracy :\u001b[32m \u001b[01m 91.16% \u001b[30m \u001b[0m\n",
      "\u001b[01m              Classification_report \u001b[0m\n",
      "              precision    recall  f1-score   support\n",
      "\n",
      "           0       0.92      0.98      0.95     85461\n",
      "           1       0.93      0.97      0.95     19189\n",
      "           2       0.83      0.56      0.67     18898\n",
      "           3       0.95      0.87      0.91      4677\n",
      "\n",
      "    accuracy                           0.91    128225\n",
      "   macro avg       0.91      0.84      0.87    128225\n",
      "weighted avg       0.91      0.91      0.90    128225\n",
      "\n",
      "\u001b[01m             Confusion_matrix \u001b[0m\n"
     ]
    },
    {
     "data": {
      "image/png": "[encoded data removed]",
      "text/plain": [
       "<Figure size 640x480 with 2 Axes>"
      ]
     },
     "metadata": {},
     "output_type": "display_data"
    }
   ],
   "source": [
    "ET_pred = ET.predict(X_test)\n",
    "ET_accuracy = accuracy_score(ET_pred, y_test)\n",
    "\n",
    "print('Test Accuracy :\\033[32m \\033[01m {:.2f}% \\033[30m \\033[0m'.format(ET_accuracy*100))\n",
    "print('\\033[01m              Classification_report \\033[0m')\n",
    "print(classification_report(y_test, ET_pred))\n",
    "print('\\033[01m             Confusion_matrix \\033[0m')\n",
    "ET_cf_matrix = confusion_matrix(y_test, ET_pred)\n",
    "plot_ = sns.heatmap(ET_cf_matrix/np.sum(ET_cf_matrix), annot=True,fmt= '0.2%')\n",
    "plt.show()"
   ]
  },
  {
   "cell_type": "markdown",
   "id": "e9f64b72",
   "metadata": {},
   "source": [
    "### Naive Bayes Classifier "
   ]
  },
  {
   "cell_type": "code",
   "execution_count": 108,
   "id": "c322237b",
   "metadata": {},
   "outputs": [
    {
     "data": {
      "text/html": [
       "<style>#sk-container-id-13 {color: black;}#sk-container-id-13 pre{padding: 0;}#sk-container-id-13 div.sk-toggleable {background-color: white;}#sk-container-id-13 label.sk-toggleable__label {cursor: pointer;display: block;width: 100%;margin-bottom: 0;padding: 0.3em;box-sizing: border-box;text-align: center;}#sk-container-id-13 label.sk-toggleable__label-arrow:before {content: \"▸\";float: left;margin-right: 0.25em;color: #696969;}#sk-container-id-13 label.sk-toggleable__label-arrow:hover:before {color: black;}#sk-container-id-13 div.sk-estimator:hover label.sk-toggleable__label-arrow:before {color: black;}#sk-container-id-13 div.sk-toggleable__content {max-height: 0;max-width: 0;overflow: hidden;text-align: left;background-color: #f0f8ff;}#sk-container-id-13 div.sk-toggleable__content pre {margin: 0.2em;color: black;border-radius: 0.25em;background-color: #f0f8ff;}#sk-container-id-13 input.sk-toggleable__control:checked~div.sk-toggleable__content {max-height: 200px;max-width: 100%;overflow: auto;}#sk-container-id-13 input.sk-toggleable__control:checked~label.sk-toggleable__label-arrow:before {content: \"▾\";}#sk-container-id-13 div.sk-estimator input.sk-toggleable__control:checked~label.sk-toggleable__label {background-color: #d4ebff;}#sk-container-id-13 div.sk-label input.sk-toggleable__control:checked~label.sk-toggleable__label {background-color: #d4ebff;}#sk-container-id-13 input.sk-hidden--visually {border: 0;clip: rect(1px 1px 1px 1px);clip: rect(1px, 1px, 1px, 1px);height: 1px;margin: -1px;overflow: hidden;padding: 0;position: absolute;width: 1px;}#sk-container-id-13 div.sk-estimator {font-family: monospace;background-color: #f0f8ff;border: 1px dotted black;border-radius: 0.25em;box-sizing: border-box;margin-bottom: 0.5em;}#sk-container-id-13 div.sk-estimator:hover {background-color: #d4ebff;}#sk-container-id-13 div.sk-parallel-item::after {content: \"\";width: 100%;border-bottom: 1px solid gray;flex-grow: 1;}#sk-container-id-13 div.sk-label:hover label.sk-toggleable__label {background-color: #d4ebff;}#sk-container-id-13 div.sk-serial::before {content: \"\";position: absolute;border-left: 1px solid gray;box-sizing: border-box;top: 0;bottom: 0;left: 50%;z-index: 0;}#sk-container-id-13 div.sk-serial {display: flex;flex-direction: column;align-items: center;background-color: white;padding-right: 0.2em;padding-left: 0.2em;position: relative;}#sk-container-id-13 div.sk-item {position: relative;z-index: 1;}#sk-container-id-13 div.sk-parallel {display: flex;align-items: stretch;justify-content: center;background-color: white;position: relative;}#sk-container-id-13 div.sk-item::before, #sk-container-id-13 div.sk-parallel-item::before {content: \"\";position: absolute;border-left: 1px solid gray;box-sizing: border-box;top: 0;bottom: 0;left: 50%;z-index: -1;}#sk-container-id-13 div.sk-parallel-item {display: flex;flex-direction: column;z-index: 1;position: relative;background-color: white;}#sk-container-id-13 div.sk-parallel-item:first-child::after {align-self: flex-end;width: 50%;}#sk-container-id-13 div.sk-parallel-item:last-child::after {align-self: flex-start;width: 50%;}#sk-container-id-13 div.sk-parallel-item:only-child::after {width: 0;}#sk-container-id-13 div.sk-dashed-wrapped {border: 1px dashed gray;margin: 0 0.4em 0.5em 0.4em;box-sizing: border-box;padding-bottom: 0.4em;background-color: white;}#sk-container-id-13 div.sk-label label {font-family: monospace;font-weight: bold;display: inline-block;line-height: 1.2em;}#sk-container-id-13 div.sk-label-container {text-align: center;}#sk-container-id-13 div.sk-container {/* jupyter's `normalize.less` sets `[hidden] { display: none; }` but bootstrap.min.css set `[hidden] { display: none !important; }` so we also need the `!important` here to be able to override the default hidden behavior on the sphinx rendered scikit-learn.org. See: https://github.com/scikit-learn/scikit-learn/issues/21755 */display: inline-block !important;position: relative;}#sk-container-id-13 div.sk-text-repr-fallback {display: none;}</style><div id=\"sk-container-id-13\" class=\"sk-top-container\"><div class=\"sk-text-repr-fallback\"><pre>GaussianNB()</pre><b>In a Jupyter environment, please rerun this cell to show the HTML representation or trust the notebook. <br />On GitHub, the HTML representation is unable to render, please try loading this page with nbviewer.org.</b></div><div class=\"sk-container\" hidden><div class=\"sk-item\"><div class=\"sk-estimator sk-toggleable\"><input class=\"sk-toggleable__control sk-hidden--visually\" id=\"sk-estimator-id-13\" type=\"checkbox\" checked><label for=\"sk-estimator-id-13\" class=\"sk-toggleable__label sk-toggleable__label-arrow\">GaussianNB</label><div class=\"sk-toggleable__content\"><pre>GaussianNB()</pre></div></div></div></div></div>"
      ],
      "text/plain": [
       "GaussianNB()"
      ]
     },
     "execution_count": 108,
     "metadata": {},
     "output_type": "execute_result"
    }
   ],
   "source": [
    "NB = GaussianNB()\n",
    "NB.fit(X_train,y_train)"
   ]
  },
  {
   "cell_type": "code",
   "execution_count": 109,
   "id": "dc252e1c",
   "metadata": {},
   "outputs": [
    {
     "name": "stdout",
     "output_type": "stream",
     "text": [
      "Test Accuracy :\u001b[32m \u001b[01m 80.17% \u001b[30m \u001b[0m\n",
      "\u001b[01m              Classification_report \u001b[0m\n",
      "              precision    recall  f1-score   support\n",
      "\n",
      "           0       0.85      0.93      0.88     85461\n",
      "           1       0.69      1.00      0.81     19189\n",
      "           2       0.64      0.04      0.07     18898\n",
      "           3       0.67      0.80      0.73      4677\n",
      "\n",
      "    accuracy                           0.80    128225\n",
      "   macro avg       0.71      0.69      0.62    128225\n",
      "weighted avg       0.78      0.80      0.75    128225\n",
      "\n",
      "\u001b[01m             Confusion_matrix \u001b[0m\n"
     ]
    },
    {
     "data": {
      "image/png": "[encoded data removed]",
      "text/plain": [
       "<Figure size 640x480 with 2 Axes>"
      ]
     },
     "metadata": {},
     "output_type": "display_data"
    }
   ],
   "source": [
    "NB_pred = NB.predict(X_test)\n",
    "NB_accuracy = accuracy_score(NB_pred, y_test)\n",
    "\n",
    "print('Test Accuracy :\\033[32m \\033[01m {:.2f}% \\033[30m \\033[0m'.format(NB_accuracy*100))\n",
    "print('\\033[01m              Classification_report \\033[0m')\n",
    "print(classification_report(y_test, NB_pred))\n",
    "print('\\033[01m             Confusion_matrix \\033[0m')\n",
    "NB_cf_matrix = confusion_matrix(y_test, NB_pred)\n",
    "plot_ = sns.heatmap(NB_cf_matrix/np.sum(NB_cf_matrix), annot=True,fmt= '0.2%')\n",
    "plt.show()"
   ]
  },
  {
   "cell_type": "markdown",
   "id": "af10e244",
   "metadata": {},
   "source": [
    "## Final Report"
   ]
  },
  {
   "cell_type": "code",
   "execution_count": 123,
   "id": "5a689178",
   "metadata": {},
   "outputs": [],
   "source": [
    "accuracies = [DT_accuracy,RF_accuracy,AB_accuracy,SGD_accuracy,ET_accuracy,NB_accuracy]\n",
    "accuracy_test=[]\n",
    "\n",
    "for i in accuracies:\n",
    "    accuracy_test.append(i)"
   ]
  },
  {
   "cell_type": "code",
   "execution_count": 124,
   "id": "bce1ba25",
   "metadata": {},
   "outputs": [
    {
     "data": {
      "text/html": [
       "<div>\n",
       "<style scoped>\n",
       "    .dataframe tbody tr th:only-of-type {\n",
       "        vertical-align: middle;\n",
       "    }\n",
       "\n",
       "    .dataframe tbody tr th {\n",
       "        vertical-align: top;\n",
       "    }\n",
       "\n",
       "    .dataframe thead th {\n",
       "        text-align: right;\n",
       "    }\n",
       "</style>\n",
       "<table border=\"1\" class=\"dataframe\">\n",
       "  <thead>\n",
       "    <tr style=\"text-align: right;\">\n",
       "      <th></th>\n",
       "      <th>Model</th>\n",
       "      <th>Accuracy</th>\n",
       "    </tr>\n",
       "  </thead>\n",
       "  <tbody>\n",
       "    <tr>\n",
       "      <th>0</th>\n",
       "      <td>Decision Tree Classifier</td>\n",
       "      <td>0.906539</td>\n",
       "    </tr>\n",
       "    <tr>\n",
       "      <th>1</th>\n",
       "      <td>Random Forest Classifier</td>\n",
       "      <td>0.911975</td>\n",
       "    </tr>\n",
       "    <tr>\n",
       "      <th>2</th>\n",
       "      <td>AdaBoost Classifier</td>\n",
       "      <td>0.818507</td>\n",
       "    </tr>\n",
       "    <tr>\n",
       "      <th>3</th>\n",
       "      <td>SGD Classifier</td>\n",
       "      <td>0.823272</td>\n",
       "    </tr>\n",
       "    <tr>\n",
       "      <th>4</th>\n",
       "      <td>Extra Trees Classifier</td>\n",
       "      <td>0.911647</td>\n",
       "    </tr>\n",
       "    <tr>\n",
       "      <th>5</th>\n",
       "      <td>Gaussian NB</td>\n",
       "      <td>0.801708</td>\n",
       "    </tr>\n",
       "  </tbody>\n",
       "</table>\n",
       "</div>"
      ],
      "text/plain": [
       "                      Model  Accuracy\n",
       "0  Decision Tree Classifier  0.906539\n",
       "1  Random Forest Classifier  0.911975\n",
       "2       AdaBoost Classifier  0.818507\n",
       "3            SGD Classifier  0.823272\n",
       "4    Extra Trees Classifier  0.911647\n",
       "5               Gaussian NB  0.801708"
      ]
     },
     "execution_count": 124,
     "metadata": {},
     "output_type": "execute_result"
    }
   ],
   "source": [
    "output = pd.DataFrame({\"Model\":['Decision Tree Classifier', 'Random Forest Classifier',\n",
    "                                'AdaBoost Classifier', 'SGD Classifier',\n",
    "                                'Extra Trees Classifier', 'Gaussian NB'],\n",
    "                      \"Accuracy\":accuracy_test})\n",
    "output"
   ]
  },
  {
   "cell_type": "code",
   "execution_count": 125,
   "id": "62136830",
   "metadata": {},
   "outputs": [
    {
     "data": {
      "image/png": "[encoded data removed]",
      "text/plain": [
       "<Figure size 1000x500 with 1 Axes>"
      ]
     },
     "metadata": {},
     "output_type": "display_data"
    }
   ],
   "source": [
    "plt.figure(figsize=(10, 5))\n",
    "plots = sns.barplot(x='Model', y='Accuracy', data=output)\n",
    "for bar in plots.patches:\n",
    "    plots.annotate(format(bar.get_height(), '.2f'),\n",
    "                   (bar.get_x() + bar.get_width() / 2,\n",
    "                    bar.get_height()), ha='center', va='center',\n",
    "                   size=15, xytext=(0, 8),\n",
    "                   textcoords='offset points')\n",
    "\n",
    "plt.xlabel(\"Models\", size=14)\n",
    "plt.xticks(rotation=20);\n",
    "plt.ylabel(\"Accuracy\", size=14)\n",
    "plt.show()"
   ]
  },
  {
   "cell_type": "markdown",
   "id": "34ed9111",
   "metadata": {},
   "source": [
    "## Testing"
   ]
  },
  {
   "cell_type": "code",
   "execution_count": 249,
   "id": "fcd0beeb",
   "metadata": {},
   "outputs": [
    {
     "data": {
      "text/plain": [
       "521044                   http://wwbb.aplicativobbonline.com\n",
       "310172    http://confirmation-account-apple.marijuanafig...\n",
       "17029                   logicalleadguitar.com/magazine/?p=9\n",
       "43892     http://andriacambia.it/index.php?option=com_ma...\n",
       "254580    http://nesn.com/2014/09/jermaine-wiggins-pats-...\n",
       "                                ...                        \n",
       "572111    esxcc.com/js/index.htm?us.battle.net/login/en/...\n",
       "602141                  comprapremiada.site50.net/cadastro/\n",
       "604903                            users.erols.com/lnstudio/\n",
       "139739    http://lacos.de/cms_neu/index.php?option=com_c...\n",
       "638111              jade-designs.org/writersring/index.html\n",
       "Name: url, Length: 4769, dtype: object"
      ]
     },
     "execution_count": 249,
     "metadata": {},
     "output_type": "execute_result"
    }
   ],
   "source": [
    "data['url'][X_test.index[123456:346333]]"
   ]
  },
  {
   "cell_type": "code",
   "execution_count": 254,
   "id": "42411900",
   "metadata": {},
   "outputs": [
    {
     "data": {
      "text/plain": [
       "('esxcc.com/js/index.htm?us.battle.net/login/en/?ref=xftsknwus.battle.net/d3/en/index',\n",
       " 'benign')"
      ]
     },
     "execution_count": 254,
     "metadata": {},
     "output_type": "execute_result"
    }
   ],
   "source": [
    "data['url'][572111] , data['type'][572111]"
   ]
  },
  {
   "cell_type": "code",
   "execution_count": 255,
   "id": "2a0c0d00",
   "metadata": {},
   "outputs": [],
   "source": [
    "# New URL for testing\n",
    "new_url = \"esxcc.com/js/index.htm?us.battle.net/login/en/?ref=xftsknwus.battle.net/d3/en/index\"\n",
    "\n",
    "# Preprocess the new URL\n",
    "url_len = len(new_url)\n",
    "domain = process_tld(new_url)\n",
    "abnormal_url_flag = abnormal_url(new_url)\n",
    "https_flag = httpSecure(new_url)\n",
    "digits_count = digit_count(new_url)\n",
    "letters_count = letter_count(new_url)\n",
    "shortening_service_flag = Shortining_Service(new_url)\n",
    "having_ip_address_flag = having_ip_address(new_url)\n",
    "\n",
    "\n",
    "# Create a DataFrame for the new URL\n",
    "new_url_data = pd.DataFrame({'url_len': [url_len]})\n",
    "\n",
    "feature = ['@','?','-','=','.','#','%','+','$','!','*',',','//']\n",
    "for i in feature:\n",
    "    new_url_data[i]  = new_url.count(i)\n",
    "        \n",
    "new_url_data['abnormal_url'] = abnormal_url_flag\n",
    "new_url_data['https'] = https_flag\n",
    "new_url_data['digits'] = digits_count\n",
    "new_url_data['letters'] = letters_count\n",
    "new_url_data['Shortining_Service'] = shortening_service_flag\n",
    "new_url_data['having_ip_address'] = having_ip_address_flag"
   ]
  },
  {
   "cell_type": "code",
   "execution_count": 256,
   "id": "56772185",
   "metadata": {},
   "outputs": [],
   "source": [
    "# Predict with the trained Random Forest model\n",
    "new_url_prediction = RF.predict(new_url_data)"
   ]
  },
  {
   "cell_type": "code",
   "execution_count": 257,
   "id": "1792ef7c",
   "metadata": {},
   "outputs": [
    {
     "name": "stdout",
     "output_type": "stream",
     "text": [
      "The predicted category for the new URL is: benign\n"
     ]
    }
   ],
   "source": [
    "# Display the result\n",
    "categories = {0: 'benign', 1: 'defacement', 2: 'phishing', 3: 'malware'}\n",
    "predicted_category = categories[new_url_prediction[0]]\n",
    "print(f\"The predicted category for the new URL is: {predicted_category}\")"
   ]
  }
 ],
 "metadata": {
  "kernelspec": {
   "display_name": "Python 3 (ipykernel)",
   "language": "python",
   "name": "python3"
  },
  "language_info": {
   "codemirror_mode": {
    "name": "ipython",
    "version": 3
   },
   "file_extension": ".py",
   "mimetype": "text/x-python",
   "name": "python",
   "nbconvert_exporter": "python",
   "pygments_lexer": "ipython3",
   "version": "3.11.5"
  }
 },
 "nbformat": 4,
 "nbformat_minor": 5
}
